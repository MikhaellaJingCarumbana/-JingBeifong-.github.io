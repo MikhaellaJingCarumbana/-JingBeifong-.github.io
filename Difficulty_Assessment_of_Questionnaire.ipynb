{
  "cells": [
    {
      "cell_type": "markdown",
      "metadata": {
        "id": "view-in-github",
        "colab_type": "text"
      },
      "source": [
        "<a href=\"https://colab.research.google.com/github/MikhaellaJingCarumbana/Developing-an-AI-Driven-Problem-Difficulty-Assessment-Model-for-Sequences-and-Summations-in-Discrete/blob/main/Difficulty_Assessment_of_Questionnaire.ipynb\" target=\"_parent\"><img src=\"https://colab.research.google.com/assets/colab-badge.svg\" alt=\"Open In Colab\"/></a>"
      ]
    },
    {
      "cell_type": "markdown",
      "metadata": {
        "id": "UUkD3XCWx9Ks"
      },
      "source": [
        "**Installing required libraries**"
      ]
    },
    {
      "cell_type": "code",
      "execution_count": null,
      "metadata": {
        "colab": {
          "base_uri": "https://localhost:8080/"
        },
        "id": "9Rei3m710qVT",
        "outputId": "c64253db-c5d2-431d-962c-a13a333dbc97"
      },
      "outputs": [
        {
          "output_type": "stream",
          "name": "stdout",
          "text": [
            "Sun Mar 30 17:02:39 2025       \n",
            "+-----------------------------------------------------------------------------------------+\n",
            "| NVIDIA-SMI 550.54.15              Driver Version: 550.54.15      CUDA Version: 12.4     |\n",
            "|-----------------------------------------+------------------------+----------------------+\n",
            "| GPU  Name                 Persistence-M | Bus-Id          Disp.A | Volatile Uncorr. ECC |\n",
            "| Fan  Temp   Perf          Pwr:Usage/Cap |           Memory-Usage | GPU-Util  Compute M. |\n",
            "|                                         |                        |               MIG M. |\n",
            "|=========================================+========================+======================|\n",
            "|   0  Tesla T4                       Off |   00000000:00:04.0 Off |                    0 |\n",
            "| N/A   68C    P0             32W /   70W |     102MiB /  15360MiB |      0%      Default |\n",
            "|                                         |                        |                  N/A |\n",
            "+-----------------------------------------+------------------------+----------------------+\n",
            "                                                                                         \n",
            "+-----------------------------------------------------------------------------------------+\n",
            "| Processes:                                                                              |\n",
            "|  GPU   GI   CI        PID   Type   Process name                              GPU Memory |\n",
            "|        ID   ID                                                               Usage      |\n",
            "|=========================================================================================|\n",
            "+-----------------------------------------------------------------------------------------+\n"
          ]
        }
      ],
      "source": [
        "!nvidia-smi"
      ]
    },
    {
      "cell_type": "code",
      "execution_count": 1,
      "metadata": {
        "colab": {
          "base_uri": "https://localhost:8080/"
        },
        "id": "cQRtv07xgrRX",
        "outputId": "a95b2a06-28a4-4a2c-d40a-f20fa6532d38"
      },
      "outputs": [
        {
          "output_type": "stream",
          "name": "stdout",
          "text": [
            "TensorFlow version: 2.18.0\n",
            "GPU device name: /device:GPU:0\n"
          ]
        }
      ],
      "source": [
        "import tensorflow as tf\n",
        "print(\"TensorFlow version:\", tf.__version__)\n",
        "# Check GPU availability\n",
        "gpu_device_name = tf.test.gpu_device_name()\n",
        "if gpu_device_name:\n",
        " print(\"GPU device name:\", gpu_device_name)\n",
        "else:\n",
        " print(\"No GPU found.\")"
      ]
    },
    {
      "cell_type": "code",
      "execution_count": null,
      "metadata": {
        "colab": {
          "base_uri": "https://localhost:8080/"
        },
        "id": "DSgF7h_ExKWy",
        "outputId": "5e523267-db7d-47d9-d826-80961910458d"
      },
      "outputs": [
        {
          "output_type": "stream",
          "name": "stdout",
          "text": [
            "Requirement already satisfied: gspread in /usr/local/lib/python3.11/dist-packages (6.2.0)\n",
            "Requirement already satisfied: pandas in /usr/local/lib/python3.11/dist-packages (2.2.2)\n",
            "Requirement already satisfied: numpy in /usr/local/lib/python3.11/dist-packages (2.0.2)\n",
            "Requirement already satisfied: google-auth>=1.12.0 in /usr/local/lib/python3.11/dist-packages (from gspread) (2.38.0)\n",
            "Requirement already satisfied: google-auth-oauthlib>=0.4.1 in /usr/local/lib/python3.11/dist-packages (from gspread) (1.2.2)\n",
            "Requirement already satisfied: python-dateutil>=2.8.2 in /usr/local/lib/python3.11/dist-packages (from pandas) (2.8.2)\n",
            "Requirement already satisfied: pytz>=2020.1 in /usr/local/lib/python3.11/dist-packages (from pandas) (2025.2)\n",
            "Requirement already satisfied: tzdata>=2022.7 in /usr/local/lib/python3.11/dist-packages (from pandas) (2025.2)\n",
            "Requirement already satisfied: cachetools<6.0,>=2.0.0 in /usr/local/lib/python3.11/dist-packages (from google-auth>=1.12.0->gspread) (5.5.2)\n",
            "Requirement already satisfied: pyasn1-modules>=0.2.1 in /usr/local/lib/python3.11/dist-packages (from google-auth>=1.12.0->gspread) (0.4.2)\n",
            "Requirement already satisfied: rsa<5,>=3.1.4 in /usr/local/lib/python3.11/dist-packages (from google-auth>=1.12.0->gspread) (4.9.1)\n",
            "Requirement already satisfied: requests-oauthlib>=0.7.0 in /usr/local/lib/python3.11/dist-packages (from google-auth-oauthlib>=0.4.1->gspread) (2.0.0)\n",
            "Requirement already satisfied: six>=1.5 in /usr/local/lib/python3.11/dist-packages (from python-dateutil>=2.8.2->pandas) (1.17.0)\n",
            "Requirement already satisfied: pyasn1<0.7.0,>=0.6.1 in /usr/local/lib/python3.11/dist-packages (from pyasn1-modules>=0.2.1->google-auth>=1.12.0->gspread) (0.6.1)\n",
            "Requirement already satisfied: oauthlib>=3.0.0 in /usr/local/lib/python3.11/dist-packages (from requests-oauthlib>=0.7.0->google-auth-oauthlib>=0.4.1->gspread) (3.2.2)\n",
            "Requirement already satisfied: requests>=2.0.0 in /usr/local/lib/python3.11/dist-packages (from requests-oauthlib>=0.7.0->google-auth-oauthlib>=0.4.1->gspread) (2.32.3)\n",
            "Requirement already satisfied: charset-normalizer<4,>=2 in /usr/local/lib/python3.11/dist-packages (from requests>=2.0.0->requests-oauthlib>=0.7.0->google-auth-oauthlib>=0.4.1->gspread) (3.4.1)\n",
            "Requirement already satisfied: idna<4,>=2.5 in /usr/local/lib/python3.11/dist-packages (from requests>=2.0.0->requests-oauthlib>=0.7.0->google-auth-oauthlib>=0.4.1->gspread) (3.10)\n",
            "Requirement already satisfied: urllib3<3,>=1.21.1 in /usr/local/lib/python3.11/dist-packages (from requests>=2.0.0->requests-oauthlib>=0.7.0->google-auth-oauthlib>=0.4.1->gspread) (2.3.0)\n",
            "Requirement already satisfied: certifi>=2017.4.17 in /usr/local/lib/python3.11/dist-packages (from requests>=2.0.0->requests-oauthlib>=0.7.0->google-auth-oauthlib>=0.4.1->gspread) (2025.1.31)\n",
            "Requirement already satisfied: pandas in /usr/local/lib/python3.11/dist-packages (2.2.2)\n",
            "Requirement already satisfied: numpy in /usr/local/lib/python3.11/dist-packages (2.0.2)\n",
            "Requirement already satisfied: scikit-learn in /usr/local/lib/python3.11/dist-packages (1.6.1)\n",
            "Requirement already satisfied: nltk in /usr/local/lib/python3.11/dist-packages (3.9.1)\n",
            "Requirement already satisfied: tensorflow in /usr/local/lib/python3.11/dist-packages (2.18.0)\n",
            "Requirement already satisfied: transformers in /usr/local/lib/python3.11/dist-packages (4.51.3)\n",
            "Requirement already satisfied: python-dateutil>=2.8.2 in /usr/local/lib/python3.11/dist-packages (from pandas) (2.8.2)\n",
            "Requirement already satisfied: pytz>=2020.1 in /usr/local/lib/python3.11/dist-packages (from pandas) (2025.2)\n",
            "Requirement already satisfied: tzdata>=2022.7 in /usr/local/lib/python3.11/dist-packages (from pandas) (2025.2)\n",
            "Requirement already satisfied: scipy>=1.6.0 in /usr/local/lib/python3.11/dist-packages (from scikit-learn) (1.14.1)\n",
            "Requirement already satisfied: joblib>=1.2.0 in /usr/local/lib/python3.11/dist-packages (from scikit-learn) (1.4.2)\n",
            "Requirement already satisfied: threadpoolctl>=3.1.0 in /usr/local/lib/python3.11/dist-packages (from scikit-learn) (3.6.0)\n",
            "Requirement already satisfied: click in /usr/local/lib/python3.11/dist-packages (from nltk) (8.1.8)\n",
            "Requirement already satisfied: regex>=2021.8.3 in /usr/local/lib/python3.11/dist-packages (from nltk) (2024.11.6)\n",
            "Requirement already satisfied: tqdm in /usr/local/lib/python3.11/dist-packages (from nltk) (4.67.1)\n",
            "Requirement already satisfied: absl-py>=1.0.0 in /usr/local/lib/python3.11/dist-packages (from tensorflow) (1.4.0)\n",
            "Requirement already satisfied: astunparse>=1.6.0 in /usr/local/lib/python3.11/dist-packages (from tensorflow) (1.6.3)\n",
            "Requirement already satisfied: flatbuffers>=24.3.25 in /usr/local/lib/python3.11/dist-packages (from tensorflow) (25.2.10)\n",
            "Requirement already satisfied: gast!=0.5.0,!=0.5.1,!=0.5.2,>=0.2.1 in /usr/local/lib/python3.11/dist-packages (from tensorflow) (0.6.0)\n",
            "Requirement already satisfied: google-pasta>=0.1.1 in /usr/local/lib/python3.11/dist-packages (from tensorflow) (0.2.0)\n",
            "Requirement already satisfied: libclang>=13.0.0 in /usr/local/lib/python3.11/dist-packages (from tensorflow) (18.1.1)\n",
            "Requirement already satisfied: opt-einsum>=2.3.2 in /usr/local/lib/python3.11/dist-packages (from tensorflow) (3.4.0)\n",
            "Requirement already satisfied: packaging in /usr/local/lib/python3.11/dist-packages (from tensorflow) (24.2)\n",
            "Requirement already satisfied: protobuf!=4.21.0,!=4.21.1,!=4.21.2,!=4.21.3,!=4.21.4,!=4.21.5,<6.0.0dev,>=3.20.3 in /usr/local/lib/python3.11/dist-packages (from tensorflow) (5.29.4)\n",
            "Requirement already satisfied: requests<3,>=2.21.0 in /usr/local/lib/python3.11/dist-packages (from tensorflow) (2.32.3)\n",
            "Requirement already satisfied: setuptools in /usr/local/lib/python3.11/dist-packages (from tensorflow) (75.2.0)\n",
            "Requirement already satisfied: six>=1.12.0 in /usr/local/lib/python3.11/dist-packages (from tensorflow) (1.17.0)\n",
            "Requirement already satisfied: termcolor>=1.1.0 in /usr/local/lib/python3.11/dist-packages (from tensorflow) (3.0.1)\n",
            "Requirement already satisfied: typing-extensions>=3.6.6 in /usr/local/lib/python3.11/dist-packages (from tensorflow) (4.13.2)\n",
            "Requirement already satisfied: wrapt>=1.11.0 in /usr/local/lib/python3.11/dist-packages (from tensorflow) (1.17.2)\n",
            "Requirement already satisfied: grpcio<2.0,>=1.24.3 in /usr/local/lib/python3.11/dist-packages (from tensorflow) (1.71.0)\n",
            "Requirement already satisfied: tensorboard<2.19,>=2.18 in /usr/local/lib/python3.11/dist-packages (from tensorflow) (2.18.0)\n",
            "Requirement already satisfied: keras>=3.5.0 in /usr/local/lib/python3.11/dist-packages (from tensorflow) (3.8.0)\n",
            "Requirement already satisfied: h5py>=3.11.0 in /usr/local/lib/python3.11/dist-packages (from tensorflow) (3.13.0)\n",
            "Requirement already satisfied: ml-dtypes<0.5.0,>=0.4.0 in /usr/local/lib/python3.11/dist-packages (from tensorflow) (0.4.1)\n",
            "Requirement already satisfied: tensorflow-io-gcs-filesystem>=0.23.1 in /usr/local/lib/python3.11/dist-packages (from tensorflow) (0.37.1)\n",
            "Requirement already satisfied: filelock in /usr/local/lib/python3.11/dist-packages (from transformers) (3.18.0)\n",
            "Requirement already satisfied: huggingface-hub<1.0,>=0.30.0 in /usr/local/lib/python3.11/dist-packages (from transformers) (0.30.2)\n",
            "Requirement already satisfied: pyyaml>=5.1 in /usr/local/lib/python3.11/dist-packages (from transformers) (6.0.2)\n",
            "Requirement already satisfied: tokenizers<0.22,>=0.21 in /usr/local/lib/python3.11/dist-packages (from transformers) (0.21.1)\n",
            "Requirement already satisfied: safetensors>=0.4.3 in /usr/local/lib/python3.11/dist-packages (from transformers) (0.5.3)\n",
            "Requirement already satisfied: wheel<1.0,>=0.23.0 in /usr/local/lib/python3.11/dist-packages (from astunparse>=1.6.0->tensorflow) (0.45.1)\n",
            "Requirement already satisfied: fsspec>=2023.5.0 in /usr/local/lib/python3.11/dist-packages (from huggingface-hub<1.0,>=0.30.0->transformers) (2025.3.2)\n",
            "Requirement already satisfied: rich in /usr/local/lib/python3.11/dist-packages (from keras>=3.5.0->tensorflow) (13.9.4)\n",
            "Requirement already satisfied: namex in /usr/local/lib/python3.11/dist-packages (from keras>=3.5.0->tensorflow) (0.0.9)\n",
            "Requirement already satisfied: optree in /usr/local/lib/python3.11/dist-packages (from keras>=3.5.0->tensorflow) (0.15.0)\n",
            "Requirement already satisfied: charset-normalizer<4,>=2 in /usr/local/lib/python3.11/dist-packages (from requests<3,>=2.21.0->tensorflow) (3.4.1)\n",
            "Requirement already satisfied: idna<4,>=2.5 in /usr/local/lib/python3.11/dist-packages (from requests<3,>=2.21.0->tensorflow) (3.10)\n",
            "Requirement already satisfied: urllib3<3,>=1.21.1 in /usr/local/lib/python3.11/dist-packages (from requests<3,>=2.21.0->tensorflow) (2.3.0)\n",
            "Requirement already satisfied: certifi>=2017.4.17 in /usr/local/lib/python3.11/dist-packages (from requests<3,>=2.21.0->tensorflow) (2025.1.31)\n",
            "Requirement already satisfied: markdown>=2.6.8 in /usr/local/lib/python3.11/dist-packages (from tensorboard<2.19,>=2.18->tensorflow) (3.8)\n",
            "Requirement already satisfied: tensorboard-data-server<0.8.0,>=0.7.0 in /usr/local/lib/python3.11/dist-packages (from tensorboard<2.19,>=2.18->tensorflow) (0.7.2)\n",
            "Requirement already satisfied: werkzeug>=1.0.1 in /usr/local/lib/python3.11/dist-packages (from tensorboard<2.19,>=2.18->tensorflow) (3.1.3)\n",
            "Requirement already satisfied: MarkupSafe>=2.1.1 in /usr/local/lib/python3.11/dist-packages (from werkzeug>=1.0.1->tensorboard<2.19,>=2.18->tensorflow) (3.0.2)\n",
            "Requirement already satisfied: markdown-it-py>=2.2.0 in /usr/local/lib/python3.11/dist-packages (from rich->keras>=3.5.0->tensorflow) (3.0.0)\n",
            "Requirement already satisfied: pygments<3.0.0,>=2.13.0 in /usr/local/lib/python3.11/dist-packages (from rich->keras>=3.5.0->tensorflow) (2.18.0)\n",
            "Requirement already satisfied: mdurl~=0.1 in /usr/local/lib/python3.11/dist-packages (from markdown-it-py>=2.2.0->rich->keras>=3.5.0->tensorflow) (0.1.2)\n"
          ]
        }
      ],
      "source": [
        "!pip install gspread pandas numpy\n",
        "!pip install pandas numpy scikit-learn nltk tensorflow transformers"
      ]
    },
    {
      "cell_type": "markdown",
      "metadata": {
        "id": "OpVjryhwzKCC"
      },
      "source": [
        "**Open the Google Sheet and read it into a DataFrame**"
      ]
    },
    {
      "cell_type": "code",
      "execution_count": null,
      "metadata": {
        "id": "1-r5LBHJyIRi"
      },
      "outputs": [],
      "source": [
        "from google.colab import auth\n",
        "auth.authenticate_user()\n",
        "\n",
        "import gspread\n",
        "from google.auth import default\n",
        "\n",
        "creds, _ = default()\n",
        "gc = gspread.authorize(creds)\n"
      ]
    },
    {
      "cell_type": "markdown",
      "metadata": {
        "id": "FmsN8vVN4F-a"
      },
      "source": [
        "**Import and show dataset**"
      ]
    },
    {
      "cell_type": "code",
      "execution_count": null,
      "metadata": {
        "colab": {
          "base_uri": "https://localhost:8080/"
        },
        "id": "DNcaesXCaWI4",
        "outputId": "938d736f-8e87-4f90-8bb7-7b956dc54c27"
      },
      "outputs": [
        {
          "output_type": "stream",
          "name": "stdout",
          "text": [
            "Mounted at /content/drive\n"
          ]
        }
      ],
      "source": [
        "from google.colab import drive\n",
        "\n",
        "# Mount to the root directory '/content/drive' first\n",
        "drive.mount('/content/drive')\n",
        "\n",
        "# Now you can access subfolders like 'MyDrive'"
      ]
    },
    {
      "cell_type": "code",
      "execution_count": null,
      "metadata": {
        "colab": {
          "base_uri": "https://localhost:8080/"
        },
        "id": "0CRlVIJWyMKU",
        "outputId": "9a92ff2d-d252-4371-a4c6-d4b36013c249"
      },
      "outputs": [
        {
          "output_type": "stream",
          "name": "stdout",
          "text": [
            "<class 'pandas.core.frame.DataFrame'>\n",
            "RangeIndex: 183 entries, 0 to 182\n",
            "Data columns (total 27 columns):\n",
            " #   Column      Non-Null Count  Dtype  \n",
            "---  ------      --------------  -----  \n",
            " 0   Surname     183 non-null    object \n",
            " 1   Time Taken  183 non-null    object \n",
            " 2   Grade       183 non-null    float64\n",
            " 3   Q1          183 non-null    object \n",
            " 4   Question 1  183 non-null    object \n",
            " 5   Response 1  183 non-null    object \n",
            " 6   Q2          183 non-null    object \n",
            " 7   Question 2  183 non-null    object \n",
            " 8   Response 2  183 non-null    object \n",
            " 9   Q3          183 non-null    object \n",
            " 10  Question 3  183 non-null    object \n",
            " 11  Response 3  183 non-null    object \n",
            " 12  Q4          183 non-null    object \n",
            " 13  Question 4  183 non-null    object \n",
            " 14  Response 4  183 non-null    object \n",
            " 15  Q5          183 non-null    object \n",
            " 16  Question 5  183 non-null    object \n",
            " 17  Response 5  183 non-null    object \n",
            " 18  Q6          183 non-null    object \n",
            " 19  Question 6  183 non-null    object \n",
            " 20  Response 6  183 non-null    object \n",
            " 21  Q7          183 non-null    object \n",
            " 22  Question 7  183 non-null    object \n",
            " 23  Response 7  183 non-null    object \n",
            " 24  Q8          183 non-null    object \n",
            " 25  Question 8  183 non-null    object \n",
            " 26  Response 8  183 non-null    object \n",
            "dtypes: float64(1), object(26)\n",
            "memory usage: 38.7+ KB\n",
            "None\n",
            "    Surname       Time Taken  Grade   Q1  \\\n",
            "0  abadiano   7 mins 30 secs   16.0  1.5   \n",
            "1    abella  16 mins 39 secs   11.0  1.5   \n",
            "2    abella   5 mins 41 secs   16.0  1.5   \n",
            "3  abellana  11 mins 12 secs   11.5  1.5   \n",
            "4  ABELLANA   2 mins 46 secs   13.0  1.5   \n",
            "\n",
            "                                          Question 1 Response 1   Q2  \\\n",
            "0  Solve for the following:\\n \\[ \\sum_{i=1}^{20} ...         80  1.5   \n",
            "1  Solve for the following:\\n \\[ \\sum_{i=1}^{20} ...         80  1.5   \n",
            "2  Solve for the following:\\n \\[ \\sum_{i=1}^{20} ...         80  1.5   \n",
            "3  Solve for the following:\\n \\[ \\sum_{i=1}^{20} ...         80    0   \n",
            "4  Solve for the following:\\n \\[ \\sum_{i=1}^{20} ...         80  1.5   \n",
            "\n",
            "                                          Question 2 Response 2 Q3  ...  \\\n",
            "0  Solve for the following:\\n \\[ \\sum_{i=1}^{3} 7...        222  2  ...   \n",
            "1  Solve for the following:\\n \\[ \\sum_{i=1}^{3} 7...        222  2  ...   \n",
            "2  Solve for the following:\\n \\[ \\sum_{i=1}^{3} 7...        222  2  ...   \n",
            "3  Solve for the following:\\n \\[ \\sum_{i=1}^{3} 7...        222  2  ...   \n",
            "4  Solve for the following:\\n \\[ \\sum_{i=1}^{3} 7...     945450  2  ...   \n",
            "\n",
            "  Response 5 Q6                                         Question 6 Response 6  \\\n",
            "0          0  2  Solve for the following:\\n \\[ \\sum_{i=1}^{6} [...        135   \n",
            "1          0  2  Solve for the following:\\n \\[ \\sum_{i=1}^{6} [...        135   \n",
            "2          0  2  Solve for the following:\\n \\[ \\sum_{i=1}^{6} [...        135   \n",
            "3          0  2  Solve for the following:\\n \\[ \\sum_{i=1}^{6} [...        135   \n",
            "4          0  2  Solve for the following:\\n \\[ \\sum_{i=1}^{6} [...        135   \n",
            "\n",
            "  Q7                                         Question 7 Response 7 Q8  \\\n",
            "0  2  Solve for the following:\\n \\[ \\sum_{i=1}^{4} 3...         90  3   \n",
            "1  0  Solve for the following:\\n \\[ \\sum_{i=1}^{4} 3...         65  0   \n",
            "2  2  Solve for the following:\\n \\[ \\sum_{i=1}^{4} 3...         90  3   \n",
            "3  2  Solve for the following:\\n \\[ \\sum_{i=1}^{4} 3...         90  0   \n",
            "4  2  Solve for the following:\\n \\[ \\sum_{i=1}^{4} 3...         90  0   \n",
            "\n",
            "                                          Question 8 Response 8  \n",
            "0  Solve for the following:\\n \\[ \\sum_{i=1}^{8} [...        216  \n",
            "1  Solve for the following:\\n \\[ \\sum_{i=1}^{8} [...        226  \n",
            "2  Solve for the following:\\n \\[ \\sum_{i=1}^{8} [...        216  \n",
            "3  Solve for the following:\\n \\[ \\sum_{i=1}^{8} [...        216  \n",
            "4  Solve for the following:\\n \\[ \\sum_{i=1}^{8} [...        244  \n",
            "\n",
            "[5 rows x 27 columns]\n",
            "Detected Question Columns: ['Q1', 'Q2', 'Q3', 'Q4', 'Q5', 'Q6', 'Q7', 'Q8']\n"
          ]
        }
      ],
      "source": [
        "from google.colab import drive\n",
        "import pandas as pd\n",
        "\n",
        "df = pd.read_csv('/content/drive/MyDrive/Datasets/Discrete Math Dataset - Summation - Sheet1 (2).csv')  # Adjust path as needed\n",
        "\n",
        "# Display basic information about the dataset\n",
        "print(df.info())  # Check data types and missing values\n",
        "print(df.head())  # View first 5 rows\n",
        "\n",
        "# Detect question score columns\n",
        "question_scores = [col for col in df.columns if col.startswith('Q') and col[1:].isdigit() and len(col) <= 2]\n",
        "\n",
        "# Now print detected columns\n",
        "print(\"Detected Question Columns:\", question_scores)"
      ]
    },
    {
      "cell_type": "code",
      "execution_count": null,
      "metadata": {
        "colab": {
          "base_uri": "https://localhost:8080/"
        },
        "id": "umIVZyt8O-oJ",
        "outputId": "b5c7538d-15d8-473e-b457-c1b855431c3b"
      },
      "outputs": [
        {
          "output_type": "stream",
          "name": "stdout",
          "text": [
            "Detected Question Columns: ['Q1', 'Q2', 'Q3', 'Q4', 'Q5', 'Q6', 'Q7', 'Q8']\n"
          ]
        }
      ],
      "source": [
        "print(\"Detected Question Columns:\", question_scores)\n"
      ]
    },
    {
      "cell_type": "markdown",
      "metadata": {
        "id": "Z6OQoGdm886b"
      },
      "source": [
        "**Handle Missing Values**"
      ]
    },
    {
      "cell_type": "code",
      "execution_count": null,
      "metadata": {
        "colab": {
          "base_uri": "https://localhost:8080/"
        },
        "id": "JfZ2iEasL0hq",
        "outputId": "b48725be-8759-411d-d92f-132f052d441a"
      },
      "outputs": [
        {
          "output_type": "stream",
          "name": "stdout",
          "text": [
            "\n",
            "NaN Counts Before Dropping:\n",
            "Q1    0\n",
            "Q2    0\n",
            "Q3    0\n",
            "Q4    0\n",
            "Q5    0\n",
            "Q6    0\n",
            "Q7    0\n",
            "Q8    0\n",
            "dtype: int64\n",
            "\n",
            "NaN Counts After Dropping:\n",
            "Q1    0\n",
            "Q2    0\n",
            "Q3    0\n",
            "Q4    0\n",
            "Q5    0\n",
            "Q6    0\n",
            "Q7    0\n",
            "Q8    0\n",
            "dtype: int64\n"
          ]
        }
      ],
      "source": [
        "print(\"\\nNaN Counts Before Dropping:\")\n",
        "print(df[question_scores].isnull().sum())\n",
        "\n",
        "df = df.dropna(subset=question_scores)\n",
        "\n",
        "print(\"\\nNaN Counts After Dropping:\")\n",
        "print(df[question_scores].isnull().sum())"
      ]
    },
    {
      "cell_type": "markdown",
      "metadata": {
        "id": "e2mTw4fl1YZ9"
      },
      "source": [
        "**Convert scores to numeric**"
      ]
    },
    {
      "cell_type": "code",
      "execution_count": null,
      "metadata": {
        "id": "Ohc-dx6rKKOz"
      },
      "outputs": [],
      "source": [
        "# Convert question scores (Q#) to numeric\n",
        "for col in question_scores:\n",
        "    df[col] = pd.to_numeric(df[col], errors='coerce')\n",
        "\n",
        "# Convert categorical variables if needed\n",
        "df['Surname'] = df['Surname'].astype(str)  # Ensure 'Surname' is treated as text\n"
      ]
    },
    {
      "cell_type": "markdown",
      "metadata": {
        "id": "DytVe0cf9_IT"
      },
      "source": [
        "**Identify Outliers**"
      ]
    },
    {
      "cell_type": "code",
      "execution_count": null,
      "metadata": {
        "colab": {
          "base_uri": "https://localhost:8080/"
        },
        "id": "2So0bj7mKOB3",
        "outputId": "95eb6540-89a1-46a2-c8ec-3dcee4146514"
      },
      "outputs": [
        {
          "output_type": "stream",
          "name": "stdout",
          "text": [
            "Q1: Unique values -> [1.5 0. ]\n",
            "Q2: Unique values -> [1.5 0. ]\n",
            "Q3: Unique values -> [2. 0.]\n",
            "Q4: Unique values -> [2. 0.]\n",
            "Q5: Unique values -> [2. 0.]\n",
            "Q6: Unique values -> [2. 0.]\n",
            "Q7: Unique values -> [2. 0.]\n",
            "Q8: Unique values -> [3. 0.]\n"
          ]
        }
      ],
      "source": [
        "import matplotlib.pyplot as plt\n",
        "import numpy as np\n",
        "\n",
        "\n",
        "# Add a small jitter to columns that are constant (like all 0s) to force display\n",
        "df_jittered = df[question_scores].copy()\n",
        "for col in question_scores:\n",
        "    if df_jittered[col].nunique() == 1:\n",
        "      df_jittered[col] += np.random.uniform(-0.1, 0.1, size=df_jittered.shape[0])\n",
        "\n",
        "df.dropna(subset=question_scores, inplace=True)\n",
        "\n",
        "\n",
        "for col in question_scores:\n",
        "    if df[col].nunique() == 1:  # If only one unique value (e.g., all 0s)\n",
        "        df[col] += 0.001  # Add a small non-zero value to force display\n",
        "\n",
        "for col in question_scores:\n",
        "    print(f\"{col}: Unique values -> {df[col].unique()}\")\n",
        "\n"
      ]
    },
    {
      "cell_type": "markdown",
      "metadata": {
        "id": "cBpYW_ku-QiJ"
      },
      "source": [
        "\n",
        "*   Outliers might indicate data entry errors or students who performed abnormally well/poorly.\n",
        "*   You can decide to remove or cap extreme values if they distort the analysis.\n",
        "\n",
        "\n",
        "\n",
        "\n"
      ]
    },
    {
      "cell_type": "markdown",
      "metadata": {
        "id": "aZY6BS_ZO6ol"
      },
      "source": []
    },
    {
      "cell_type": "code",
      "execution_count": null,
      "metadata": {
        "colab": {
          "base_uri": "https://localhost:8080/"
        },
        "id": "VrSvMd3WO5mP",
        "outputId": "66c35354-4fbe-416d-fac4-0154cc77f6c7"
      },
      "outputs": [
        {
          "output_type": "stream",
          "name": "stdout",
          "text": [
            "Detected Question Columns: ['Q1', 'Q2', 'Q3', 'Q4', 'Q5', 'Q6', 'Q7', 'Q8']\n"
          ]
        }
      ],
      "source": [
        "print(\"Detected Question Columns:\", question_scores)\n"
      ]
    },
    {
      "cell_type": "code",
      "execution_count": null,
      "metadata": {
        "colab": {
          "base_uri": "https://localhost:8080/",
          "height": 497
        },
        "id": "roYD2hg7-bB3",
        "outputId": "46da30c9-4851-4cb4-910c-573e2f42cdbc"
      },
      "outputs": [
        {
          "output_type": "display_data",
          "data": {
            "text/plain": [
              "<Figure size 1000x500 with 1 Axes>"
            ],
            "image/png": "[encoded data removed]"
          },
          "metadata": {}
        }
      ],
      "source": [
        "# Count incorrect attempts (everything except max score)\n",
        "max_scores = df[question_scores].max()  # Get max score for each question\n",
        "error_counts = (df[question_scores] != max_scores).sum()  # Count all scores that are NOT max\n",
        "\n",
        "# Ensure all questions appear in the plot (even if 0 incorrect attempts)\n",
        "error_counts = error_counts.reindex(question_scores, fill_value=0)\n",
        "\n",
        "# Visualize error patterns\n",
        "plt.figure(figsize=(10, 5))\n",
        "error_counts.plot(kind='bar', color='red')\n",
        "plt.title(\"Number of Incorrect Attempts per Question\")\n",
        "plt.xlabel(\"Question\")\n",
        "plt.ylabel(\"Incorrect Attempts\")\n",
        "plt.xticks(rotation=45)\n",
        "plt.show()"
      ]
    },
    {
      "cell_type": "markdown",
      "metadata": {
        "id": "grdmxI1A-kkJ"
      },
      "source": [
        "\n",
        "\n",
        "*   Identifies which questions are hardest.\n",
        "*   Helps categorize common misconceptions.\n",
        "\n"
      ]
    },
    {
      "cell_type": "code",
      "execution_count": null,
      "metadata": {
        "colab": {
          "base_uri": "https://localhost:8080/"
        },
        "id": "KsVtulXJ-1De",
        "outputId": "362a86a1-d08c-45b9-80a3-8d13aba4c28b"
      },
      "outputs": [
        {
          "output_type": "stream",
          "name": "stdout",
          "text": [
            "    Incorrect Rate (%)\n",
            "Q1            2.247191\n",
            "Q2            2.808989\n",
            "Q3            3.370787\n",
            "Q4            2.808989\n",
            "Q5            4.494382\n",
            "Q6            5.617978\n",
            "Q7            5.056180\n",
            "Q8           16.853933\n"
          ]
        }
      ],
      "source": [
        "# Assuming 'df' and 'question_scores' are already defined from previous cells\n",
        "\n",
        "# Create df_difficulty from the error_counts you calculated earlier\n",
        "df_difficulty = pd.DataFrame(error_counts, columns=['Incorrect Attempts'])\n",
        "df_difficulty['Total Attempts'] = df.shape[0]  # Assuming each row is an attempt\n",
        "\n",
        "# Now you can proceed with the calculation\n",
        "df_difficulty['Incorrect Rate (%)'] = (df_difficulty['Incorrect Attempts'] / df_difficulty['Total Attempts']) * 100\n",
        "\n",
        "# Display only the Incorrect Rate percentage\n",
        "print(df_difficulty[['Incorrect Rate (%)']])"
      ]
    },
    {
      "cell_type": "markdown",
      "metadata": {
        "id": "B32xx3HFBDND"
      },
      "source": [
        "**Save Dataset**"
      ]
    },
    {
      "cell_type": "code",
      "execution_count": null,
      "metadata": {
        "colab": {
          "base_uri": "https://localhost:8080/"
        },
        "id": "ytChK2IYABPG",
        "outputId": "2e78866a-faf2-4f9f-c194-6e98a51605e4"
      },
      "outputs": [
        {
          "output_type": "stream",
          "name": "stdout",
          "text": [
            "    Incorrect Rate (%)\n",
            "Q1            2.247191\n",
            "Q2            2.808989\n",
            "Q3            3.370787\n",
            "Q4            2.808989\n",
            "Q5            4.494382\n"
          ]
        }
      ],
      "source": [
        "# Compute Incorrect Rate as a percentage\n",
        "df_difficulty['Incorrect Rate (%)'] = (df_difficulty['Incorrect Attempts'] / df_difficulty['Total Attempts']) * 100\n",
        "\n",
        "# Save only the Incorrect Rate (%) column while keeping the index - this saves the results\n",
        "df_difficulty[['Incorrect Rate (%)']].to_csv('/content/Incorrect_Rate.csv', index=True)\n",
        "\n",
        "# View first 5 rows\n",
        "print(df_difficulty[['Incorrect Rate (%)']].head())\n"
      ]
    },
    {
      "cell_type": "markdown",
      "metadata": {
        "id": "oCjVF64DBOVn"
      },
      "source": [
        "**Calculate Difficulty Testing**"
      ]
    },
    {
      "cell_type": "code",
      "execution_count": null,
      "metadata": {
        "colab": {
          "base_uri": "https://localhost:8080/"
        },
        "id": "8etbspj-0Gp1",
        "outputId": "ecbfc2ef-2c7f-47b4-bb13-7e23984d43ac"
      },
      "outputs": [
        {
          "output_type": "stream",
          "name": "stdout",
          "text": [
            "Error: 'Surname' column not found in dataset.\n"
          ]
        }
      ],
      "source": [
        "import pandas as pd\n",
        "\n",
        "\n",
        "# Identify score columns (only Q# and not 'Question #')\n",
        "question_scores = [col for col in df.columns if col.startswith('Q') and col[1:].isdigit()]\n",
        "\n",
        "# Convert Q# columns to numeric\n",
        "for col in question_scores:\n",
        "    df[col] = pd.to_numeric(df[col], errors='coerce')\n",
        "\n",
        "# Ensure 'Surname' column exists\n",
        "if 'Surname' in df.columns:\n",
        "    # Count total attempts (based on surname occurrences)\n",
        "    total_attempts = df['Surname'].value_counts().sum()  # Total attempts across all students\n",
        "\n",
        "    # Count unique students\n",
        "    unique_students = df['Surname'].nunique()\n",
        "\n",
        "    # Calculate average attempts per student\n",
        "    avg_attempts_per_student = total_attempts / unique_students if unique_students > 0 else 0\n",
        "\n",
        "    difficulty_scores = {}\n",
        "\n",
        "    # Loop through question score columns (Q#)\n",
        "    for col in question_scores:\n",
        "        max_score = df[col].max()  # Dynamically detect max possible score\n",
        "        incorrect_attempts = (df[col] < max_score).sum()  # Count responses below max score\n",
        "\n",
        "        difficulty_percentage = (incorrect_attempts / total_attempts) * 100\n",
        "        difficulty_scores[col] = round(difficulty_percentage, 2)\n",
        "\n",
        "    # Convert to DataFrame\n",
        "    difficulty_df = pd.DataFrame(list(difficulty_scores.items()), columns=['Question', 'Difficulty (%)'])\n",
        "\n",
        "    # Display results\n",
        "    print(f\"Total Attempts: {total_attempts}\")\n",
        "    print(f\"Unique Students: {unique_students}\")\n",
        "    print(f\"Average Attempts per Student: {round(avg_attempts_per_student, 2)}\")\n",
        "    print(difficulty_df)\n",
        "else:\n",
        "    print(\"Error: 'Surname' column not found in dataset.\")\n"
      ]
    },
    {
      "cell_type": "code",
      "execution_count": null,
      "metadata": {
        "colab": {
          "base_uri": "https://localhost:8080/",
          "height": 660
        },
        "id": "CqKkt3eLD2PB",
        "outputId": "37bd895a-83aa-4e40-f260-922c73948bc2"
      },
      "outputs": [
        {
          "output_type": "stream",
          "name": "stderr",
          "text": [
            "<ipython-input-61-49d7c16ff1a8>:6: FutureWarning: \n",
            "\n",
            "Passing `palette` without assigning `hue` is deprecated and will be removed in v0.14.0. Assign the `x` variable to `hue` and set `legend=False` for the same effect.\n",
            "\n",
            "  sns.barplot(x=difficulty_df['Question'], y=difficulty_df['Difficulty (%)'], palette='Reds_r')\n"
          ]
        },
        {
          "output_type": "display_data",
          "data": {
            "text/plain": [
              "<Figure size 1200x600 with 1 Axes>"
            ],
            "image/png": "[encoded data removed]"
          },
          "metadata": {}
        }
      ],
      "source": [
        "import matplotlib.pyplot as plt\n",
        "import seaborn as sns\n",
        "\n",
        "# Set plot size and style\n",
        "plt.figure(figsize=(12, 6))\n",
        "sns.barplot(x=difficulty_df['Question'], y=difficulty_df['Difficulty (%)'], palette='Reds_r')\n",
        "\n",
        "# Add labels and title\n",
        "plt.xlabel('Question', fontsize=12)\n",
        "plt.ylabel('Difficulty Percentage (%)', fontsize=12)\n",
        "plt.title('Question Difficulty Analysis', fontsize=14)\n",
        "\n",
        "# Rotate x-axis labels for better readability\n",
        "plt.xticks(rotation=45)\n",
        "\n",
        "# Show the plot\n",
        "plt.show()\n"
      ]
    },
    {
      "cell_type": "markdown",
      "metadata": {
        "id": "WRtNH3veCeQS"
      },
      "source": [
        "The difficulty percentage is calculated based on how many students scored less than the maximum possible score on each question. A higher difficulty percentage means that more students made mistakes on that question, indicating that it was harder.\n",
        "\n",
        "Formula Used:\n",
        "\n",
        "![Screenshot 2025-02-13 052209.png](data:image/png;base64,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)\n",
        "\n",
        "Where:\n",
        "\n",
        "*   Number of Incorrect Attempts = The number of students who did not achieve the highest score for that question.\n",
        "*   Total Attempts = The total number of attempts made by all students across all questions.\n",
        "\n",
        "\n",
        "\n",
        "\n"
      ]
    },
    {
      "cell_type": "markdown",
      "metadata": {
        "id": "pX8vhdru0RKY"
      },
      "source": [
        "**Implementing Multiple Linear Regression**"
      ]
    },
    {
      "cell_type": "code",
      "execution_count": null,
      "metadata": {
        "id": "ekrdMoQI0HsV"
      },
      "outputs": [],
      "source": [
        "import pandas as pd\n",
        "import numpy as np\n",
        "import matplotlib.pyplot as plt\n",
        "import seaborn as sns\n",
        "import re\n",
        "from sklearn.model_selection import train_test_split\n",
        "from sklearn.linear_model import LinearRegression\n",
        "from sklearn.metrics import mean_absolute_error, mean_squared_error, r2_score\n"
      ]
    },
    {
      "cell_type": "markdown",
      "metadata": {
        "id": "nZFZ19SvWVXU"
      },
      "source": [
        "**Import Necessary Libraries and Load Dataset**"
      ]
    },
    {
      "cell_type": "code",
      "execution_count": null,
      "metadata": {
        "colab": {
          "base_uri": "https://localhost:8080/"
        },
        "id": "QFqYsZhdDiM-",
        "outputId": "76b4f36e-e9ec-4180-dd3c-48d37f33d118"
      },
      "outputs": [
        {
          "output_type": "stream",
          "name": "stdout",
          "text": [
            "Loading datasets...\n",
            "Datasets loaded successfully!\n",
            "\n",
            "    Surname       Time Taken  Grade   Q1  \\\n",
            "0  abadiano   7 mins 30 secs   16.0  1.5   \n",
            "1    abella  16 mins 39 secs   11.0  1.5   \n",
            "2    abella   5 mins 41 secs   16.0  1.5   \n",
            "3  abellana  11 mins 12 secs   11.5  1.5   \n",
            "4  ABELLANA   2 mins 46 secs   13.0  1.5   \n",
            "\n",
            "                                          Question 1 Response 1   Q2  \\\n",
            "0  Solve for the following:\\n \\[ \\sum_{i=1}^{20} ...         80  1.5   \n",
            "1  Solve for the following:\\n \\[ \\sum_{i=1}^{20} ...         80  1.5   \n",
            "2  Solve for the following:\\n \\[ \\sum_{i=1}^{20} ...         80  1.5   \n",
            "3  Solve for the following:\\n \\[ \\sum_{i=1}^{20} ...         80    0   \n",
            "4  Solve for the following:\\n \\[ \\sum_{i=1}^{20} ...         80  1.5   \n",
            "\n",
            "                                          Question 2 Response 2 Q3  ...  \\\n",
            "0  Solve for the following:\\n \\[ \\sum_{i=1}^{3} 7...        222  2  ...   \n",
            "1  Solve for the following:\\n \\[ \\sum_{i=1}^{3} 7...        222  2  ...   \n",
            "2  Solve for the following:\\n \\[ \\sum_{i=1}^{3} 7...        222  2  ...   \n",
            "3  Solve for the following:\\n \\[ \\sum_{i=1}^{3} 7...        222  2  ...   \n",
            "4  Solve for the following:\\n \\[ \\sum_{i=1}^{3} 7...     945450  2  ...   \n",
            "\n",
            "  Response 5 Q6                                         Question 6 Response 6  \\\n",
            "0          0  2  Solve for the following:\\n \\[ \\sum_{i=1}^{6} [...        135   \n",
            "1          0  2  Solve for the following:\\n \\[ \\sum_{i=1}^{6} [...        135   \n",
            "2          0  2  Solve for the following:\\n \\[ \\sum_{i=1}^{6} [...        135   \n",
            "3          0  2  Solve for the following:\\n \\[ \\sum_{i=1}^{6} [...        135   \n",
            "4          0  2  Solve for the following:\\n \\[ \\sum_{i=1}^{6} [...        135   \n",
            "\n",
            "  Q7                                         Question 7 Response 7 Q8  \\\n",
            "0  2  Solve for the following:\\n \\[ \\sum_{i=1}^{4} 3...         90  3   \n",
            "1  0  Solve for the following:\\n \\[ \\sum_{i=1}^{4} 3...         65  0   \n",
            "2  2  Solve for the following:\\n \\[ \\sum_{i=1}^{4} 3...         90  3   \n",
            "3  2  Solve for the following:\\n \\[ \\sum_{i=1}^{4} 3...         90  0   \n",
            "4  2  Solve for the following:\\n \\[ \\sum_{i=1}^{4} 3...         90  0   \n",
            "\n",
            "                                          Question 8 Response 8  \n",
            "0  Solve for the following:\\n \\[ \\sum_{i=1}^{8} [...        216  \n",
            "1  Solve for the following:\\n \\[ \\sum_{i=1}^{8} [...        226  \n",
            "2  Solve for the following:\\n \\[ \\sum_{i=1}^{8} [...        216  \n",
            "3  Solve for the following:\\n \\[ \\sum_{i=1}^{8} [...        216  \n",
            "4  Solve for the following:\\n \\[ \\sum_{i=1}^{8} [...        244  \n",
            "\n",
            "[5 rows x 27 columns]\n",
            "  Unnamed: 0  Incorrect Rate (%)\n",
            "0         Q1          133.333333\n",
            "1         Q2          166.666667\n",
            "2         Q3          200.000000\n",
            "3         Q4          166.666667\n",
            "4         Q5          266.666667\n"
          ]
        }
      ],
      "source": [
        "print(\"Loading datasets...\")\n",
        "df_scores = pd.read_csv('/content/Discrete Math Dataset - Summation - Sheet1 (2).csv')\n",
        "df_difficulty = pd.read_csv('/content/Incorrect_Rate.csv')\n",
        "\n",
        "print(\"Datasets loaded successfully!\\n\")\n",
        "print(df_scores.head())\n",
        "print(df_difficulty.head())\n"
      ]
    },
    {
      "cell_type": "markdown",
      "metadata": {
        "id": "OXsxReOVkXIX"
      },
      "source": [
        "The script loads two datasets.\n",
        "\n",
        "1.   df_scores: Contains students' names, scores on different questions (Q1–Q6), time taken, and grades.\n",
        "2.   df_difficulty: Contains difficulty levels of the questions, represented as Incorrect Rate (%).\n",
        "\n",
        "\n",
        "\n",
        "*   We need both datasets to build a predictive model.\n",
        "*   The difficulty level (Incorrect Rate (%)) will be the target variable (y).\n",
        "\n",
        "*   Scores, time taken, and grades are independent variables (X).\n",
        "\n",
        "\n",
        "\n",
        "\n",
        "\n",
        "\n"
      ]
    },
    {
      "cell_type": "markdown",
      "metadata": {
        "id": "ekq6r5MjmrB2"
      },
      "source": [
        "**Define a Function to Convert Time Format to Seconds**"
      ]
    },
    {
      "cell_type": "code",
      "execution_count": null,
      "metadata": {
        "id": "fsu_zYksnU0g"
      },
      "outputs": [],
      "source": [
        "def time_to_seconds(time_str):\n",
        "    if isinstance(time_str, str):\n",
        "        match = re.match(r'(?:(\\d+) mins )?(?:(\\d+) secs)?', time_str)\n",
        "        if match:\n",
        "            minutes = int(match.group(1)) if match.group(1) else 0\n",
        "            seconds = int(match.group(2)) if match.group(2) else 0\n",
        "            return minutes * 60 + seconds\n",
        "    return np.nan"
      ]
    },
    {
      "cell_type": "markdown",
      "metadata": {
        "id": "a3tGkUCjnfVI"
      },
      "source": [
        "**Apply Time Conversion to Dataset**"
      ]
    },
    {
      "cell_type": "code",
      "execution_count": null,
      "metadata": {
        "id": "hCsoFVSlnhrz",
        "colab": {
          "base_uri": "https://localhost:8080/",
          "height": 547
        },
        "outputId": "12622a6e-a38d-4d75-f0d8-e0871fc9308f"
      },
      "outputs": [
        {
          "output_type": "error",
          "ename": "KeyError",
          "evalue": "'Time Taken'",
          "traceback": [
            "\u001b[0;31m---------------------------------------------------------------------------\u001b[0m",
            "\u001b[0;31mKeyError\u001b[0m                                  Traceback (most recent call last)",
            "\u001b[0;32m/usr/local/lib/python3.11/dist-packages/pandas/core/indexes/base.py\u001b[0m in \u001b[0;36mget_loc\u001b[0;34m(self, key)\u001b[0m\n\u001b[1;32m   3804\u001b[0m         \u001b[0;32mtry\u001b[0m\u001b[0;34m:\u001b[0m\u001b[0;34m\u001b[0m\u001b[0;34m\u001b[0m\u001b[0m\n\u001b[0;32m-> 3805\u001b[0;31m             \u001b[0;32mreturn\u001b[0m \u001b[0mself\u001b[0m\u001b[0;34m.\u001b[0m\u001b[0m_engine\u001b[0m\u001b[0;34m.\u001b[0m\u001b[0mget_loc\u001b[0m\u001b[0;34m(\u001b[0m\u001b[0mcasted_key\u001b[0m\u001b[0;34m)\u001b[0m\u001b[0;34m\u001b[0m\u001b[0;34m\u001b[0m\u001b[0m\n\u001b[0m\u001b[1;32m   3806\u001b[0m         \u001b[0;32mexcept\u001b[0m \u001b[0mKeyError\u001b[0m \u001b[0;32mas\u001b[0m \u001b[0merr\u001b[0m\u001b[0;34m:\u001b[0m\u001b[0;34m\u001b[0m\u001b[0;34m\u001b[0m\u001b[0m\n",
            "\u001b[0;32mindex.pyx\u001b[0m in \u001b[0;36mpandas._libs.index.IndexEngine.get_loc\u001b[0;34m()\u001b[0m\n",
            "\u001b[0;32mindex.pyx\u001b[0m in \u001b[0;36mpandas._libs.index.IndexEngine.get_loc\u001b[0;34m()\u001b[0m\n",
            "\u001b[0;32mpandas/_libs/hashtable_class_helper.pxi\u001b[0m in \u001b[0;36mpandas._libs.hashtable.PyObjectHashTable.get_item\u001b[0;34m()\u001b[0m\n",
            "\u001b[0;32mpandas/_libs/hashtable_class_helper.pxi\u001b[0m in \u001b[0;36mpandas._libs.hashtable.PyObjectHashTable.get_item\u001b[0;34m()\u001b[0m\n",
            "\u001b[0;31mKeyError\u001b[0m: 'Time Taken'",
            "\nThe above exception was the direct cause of the following exception:\n",
            "\u001b[0;31mKeyError\u001b[0m                                  Traceback (most recent call last)",
            "\u001b[0;32m<ipython-input-73-03fc67429d0b>\u001b[0m in \u001b[0;36m<cell line: 0>\u001b[0;34m()\u001b[0m\n\u001b[0;32m----> 1\u001b[0;31m \u001b[0mdf\u001b[0m\u001b[0;34m[\u001b[0m\u001b[0;34m'Time Taken'\u001b[0m\u001b[0;34m]\u001b[0m \u001b[0;34m=\u001b[0m \u001b[0mdf\u001b[0m\u001b[0;34m[\u001b[0m\u001b[0;34m'Time Taken'\u001b[0m\u001b[0;34m]\u001b[0m\u001b[0;34m.\u001b[0m\u001b[0mapply\u001b[0m\u001b[0;34m(\u001b[0m\u001b[0mtime_to_seconds\u001b[0m\u001b[0;34m)\u001b[0m\u001b[0;34m\u001b[0m\u001b[0;34m\u001b[0m\u001b[0m\n\u001b[0m",
            "\u001b[0;32m/usr/local/lib/python3.11/dist-packages/pandas/core/frame.py\u001b[0m in \u001b[0;36m__getitem__\u001b[0;34m(self, key)\u001b[0m\n\u001b[1;32m   4100\u001b[0m             \u001b[0;32mif\u001b[0m \u001b[0mself\u001b[0m\u001b[0;34m.\u001b[0m\u001b[0mcolumns\u001b[0m\u001b[0;34m.\u001b[0m\u001b[0mnlevels\u001b[0m \u001b[0;34m>\u001b[0m \u001b[0;36m1\u001b[0m\u001b[0;34m:\u001b[0m\u001b[0;34m\u001b[0m\u001b[0;34m\u001b[0m\u001b[0m\n\u001b[1;32m   4101\u001b[0m                 \u001b[0;32mreturn\u001b[0m \u001b[0mself\u001b[0m\u001b[0;34m.\u001b[0m\u001b[0m_getitem_multilevel\u001b[0m\u001b[0;34m(\u001b[0m\u001b[0mkey\u001b[0m\u001b[0;34m)\u001b[0m\u001b[0;34m\u001b[0m\u001b[0;34m\u001b[0m\u001b[0m\n\u001b[0;32m-> 4102\u001b[0;31m             \u001b[0mindexer\u001b[0m \u001b[0;34m=\u001b[0m \u001b[0mself\u001b[0m\u001b[0;34m.\u001b[0m\u001b[0mcolumns\u001b[0m\u001b[0;34m.\u001b[0m\u001b[0mget_loc\u001b[0m\u001b[0;34m(\u001b[0m\u001b[0mkey\u001b[0m\u001b[0;34m)\u001b[0m\u001b[0;34m\u001b[0m\u001b[0;34m\u001b[0m\u001b[0m\n\u001b[0m\u001b[1;32m   4103\u001b[0m             \u001b[0;32mif\u001b[0m \u001b[0mis_integer\u001b[0m\u001b[0;34m(\u001b[0m\u001b[0mindexer\u001b[0m\u001b[0;34m)\u001b[0m\u001b[0;34m:\u001b[0m\u001b[0;34m\u001b[0m\u001b[0;34m\u001b[0m\u001b[0m\n\u001b[1;32m   4104\u001b[0m                 \u001b[0mindexer\u001b[0m \u001b[0;34m=\u001b[0m \u001b[0;34m[\u001b[0m\u001b[0mindexer\u001b[0m\u001b[0;34m]\u001b[0m\u001b[0;34m\u001b[0m\u001b[0;34m\u001b[0m\u001b[0m\n",
            "\u001b[0;32m/usr/local/lib/python3.11/dist-packages/pandas/core/indexes/base.py\u001b[0m in \u001b[0;36mget_loc\u001b[0;34m(self, key)\u001b[0m\n\u001b[1;32m   3810\u001b[0m             ):\n\u001b[1;32m   3811\u001b[0m                 \u001b[0;32mraise\u001b[0m \u001b[0mInvalidIndexError\u001b[0m\u001b[0;34m(\u001b[0m\u001b[0mkey\u001b[0m\u001b[0;34m)\u001b[0m\u001b[0;34m\u001b[0m\u001b[0;34m\u001b[0m\u001b[0m\n\u001b[0;32m-> 3812\u001b[0;31m             \u001b[0;32mraise\u001b[0m \u001b[0mKeyError\u001b[0m\u001b[0;34m(\u001b[0m\u001b[0mkey\u001b[0m\u001b[0;34m)\u001b[0m \u001b[0;32mfrom\u001b[0m \u001b[0merr\u001b[0m\u001b[0;34m\u001b[0m\u001b[0;34m\u001b[0m\u001b[0m\n\u001b[0m\u001b[1;32m   3813\u001b[0m         \u001b[0;32mexcept\u001b[0m \u001b[0mTypeError\u001b[0m\u001b[0;34m:\u001b[0m\u001b[0;34m\u001b[0m\u001b[0;34m\u001b[0m\u001b[0m\n\u001b[1;32m   3814\u001b[0m             \u001b[0;31m# If we have a listlike key, _check_indexing_error will raise\u001b[0m\u001b[0;34m\u001b[0m\u001b[0;34m\u001b[0m\u001b[0m\n",
            "\u001b[0;31mKeyError\u001b[0m: 'Time Taken'"
          ]
        }
      ],
      "source": [
        "df['Time Taken'] = df['Time Taken'].apply(time_to_seconds)\n"
      ]
    },
    {
      "cell_type": "markdown",
      "metadata": {
        "id": "FzWPI-GpnVpT"
      },
      "source": [
        "**Handle Missing Values in the \"Time Taken\" Column**"
      ]
    },
    {
      "cell_type": "code",
      "execution_count": null,
      "metadata": {
        "id": "oOy5sbBGnmAZ"
      },
      "outputs": [],
      "source": [
        "df['Time Taken'] = df['Time Taken'].fillna(df['Time Taken'].median())\n"
      ]
    },
    {
      "cell_type": "markdown",
      "metadata": {
        "id": "6v1-ixuxnq3K"
      },
      "source": [
        "**Rename and Merge the Two Datasets**"
      ]
    },
    {
      "cell_type": "code",
      "execution_count": null,
      "metadata": {
        "colab": {
          "base_uri": "https://localhost:8080/"
        },
        "id": "mxBvj0w7nsmY",
        "outputId": "69ee6658-16e4-417d-bd41-18a95c4c29c2"
      },
      "outputs": [
        {
          "output_type": "stream",
          "name": "stdout",
          "text": [
            "       Surname  Time Taken  Grade Q_ID  Score  Incorrect Rate (%)\n",
            "0     abadiano         450   16.0   Q1    1.5            2.247191\n",
            "1       abella         999   11.0   Q1    1.5            2.247191\n",
            "2       abella         341   16.0   Q1    1.5            2.247191\n",
            "3     abellana         672   11.5   Q1    1.5            2.247191\n",
            "4     ABELLANA         166   13.0   Q1    1.5            2.247191\n",
            "...        ...         ...    ...  ...    ...                 ...\n",
            "1063  Villamor           0   16.0   Q6    2.0            5.617978\n",
            "1064       Yap         291   16.0   Q6    2.0            5.617978\n",
            "1065    ybanez         229   16.0   Q6    2.0            5.617978\n",
            "1066        yu         143   16.0   Q6    2.0            5.617978\n",
            "1067     Zafra         484   16.0   Q6    2.0            5.617978\n",
            "\n",
            "[1068 rows x 6 columns]\n",
            "X shape: (1068, 3)\n",
            "y shape: (1068,)\n"
          ]
        }
      ],
      "source": [
        "df_difficulty.rename(columns={\"Unnamed: 0\": \"Q_ID\"}, inplace=True)  # Replace df2 with df_difficulty\n",
        "\n",
        "df_melted = df.melt(id_vars=['Surname', 'Time Taken', 'Grade'],  # Replace df1 with df\n",
        "                      value_vars=['Q1', 'Q2', 'Q3', 'Q4', 'Q5', 'Q6'],\n",
        "                      var_name=\"Q_ID\", value_name=\"Score\")\n",
        "\n",
        "df_merged = df_melted.merge(df_difficulty, on=\"Q_ID\", how=\"left\") # Use df_difficulty for the merge\n",
        "\n",
        "# Define features (X) and target variable (y)\n",
        "X = df_merged[['Time Taken', 'Grade', 'Incorrect Rate (%)']]\n",
        "y = df_merged['Score']\n",
        "\n",
        "print(df_merged)\n",
        "\n",
        "print(\"X shape:\", X.shape)\n",
        "print(\"y shape:\", y.shape)\n"
      ]
    },
    {
      "cell_type": "markdown",
      "metadata": {
        "id": "M5vu6Wmon1QH"
      },
      "source": [
        "**Merge Incorrect Rate (%) from df_difficulty**"
      ]
    },
    {
      "cell_type": "code",
      "execution_count": null,
      "metadata": {
        "colab": {
          "base_uri": "https://localhost:8080/",
          "height": 1000
        },
        "id": "D2wUZRzooO2b",
        "outputId": "4c5fcaa6-87ab-411b-e88a-1a238b945bf7"
      },
      "outputs": [
        {
          "output_type": "stream",
          "name": "stdout",
          "text": [
            "df_melted before merge:\n",
            "    Surname  Time Taken  Grade Q_ID  Score\n",
            "0  abadiano         450   16.0   Q1    1.5\n",
            "1    abella         999   11.0   Q1    1.5\n",
            "2    abella         341   16.0   Q1    1.5\n",
            "3  abellana         672   11.5   Q1    1.5\n",
            "4  ABELLANA         166   13.0   Q1    1.5\n",
            "<class 'pandas.core.frame.DataFrame'>\n",
            "RangeIndex: 1068 entries, 0 to 1067\n",
            "Data columns (total 5 columns):\n",
            " #   Column      Non-Null Count  Dtype  \n",
            "---  ------      --------------  -----  \n",
            " 0   Surname     1068 non-null   object \n",
            " 1   Time Taken  1068 non-null   int64  \n",
            " 2   Grade       1068 non-null   float64\n",
            " 3   Q_ID        1068 non-null   object \n",
            " 4   Score       1068 non-null   float64\n",
            "dtypes: float64(2), int64(1), object(2)\n",
            "memory usage: 41.8+ KB\n",
            "None\n",
            "\n",
            "df_difficulty before merge:\n",
            "  Q_ID  Incorrect Rate (%)\n",
            "0   Q1            2.247191\n",
            "1   Q2            2.808989\n",
            "2   Q3            3.370787\n",
            "3   Q4            2.808989\n",
            "4   Q5            4.494382\n",
            "<class 'pandas.core.frame.DataFrame'>\n",
            "RangeIndex: 8 entries, 0 to 7\n",
            "Data columns (total 2 columns):\n",
            " #   Column              Non-Null Count  Dtype  \n",
            "---  ------              --------------  -----  \n",
            " 0   Q_ID                8 non-null      object \n",
            " 1   Incorrect Rate (%)  8 non-null      float64\n",
            "dtypes: float64(1), object(1)\n",
            "memory usage: 260.0+ bytes\n",
            "None\n",
            "\n",
            "df_merged immediately after merge:\n",
            "    Surname  Time Taken  Grade Q_ID  Score  Incorrect Rate (%)\n",
            "0  abadiano         450   16.0   Q1    1.5            2.247191\n",
            "1    abella         999   11.0   Q1    1.5            2.247191\n",
            "2    abella         341   16.0   Q1    1.5            2.247191\n",
            "3  abellana         672   11.5   Q1    1.5            2.247191\n",
            "4  ABELLANA         166   13.0   Q1    1.5            2.247191\n",
            "<class 'pandas.core.frame.DataFrame'>\n",
            "RangeIndex: 1068 entries, 0 to 1067\n",
            "Data columns (total 6 columns):\n",
            " #   Column              Non-Null Count  Dtype  \n",
            "---  ------              --------------  -----  \n",
            " 0   Surname             1068 non-null   object \n",
            " 1   Time Taken          1068 non-null   int64  \n",
            " 2   Grade               1068 non-null   float64\n",
            " 3   Q_ID                1068 non-null   object \n",
            " 4   Score               1068 non-null   float64\n",
            " 5   Incorrect Rate (%)  1068 non-null   float64\n",
            "dtypes: float64(3), int64(1), object(2)\n",
            "memory usage: 50.2+ KB\n",
            "None\n",
            "\n",
            "df_merged after dropping NaNs:\n",
            "    Surname  Time Taken  Grade Q_ID  Score  Incorrect Rate (%)\n",
            "0  abadiano         450   16.0   Q1    1.5            2.247191\n",
            "1    abella         999   11.0   Q1    1.5            2.247191\n",
            "2    abella         341   16.0   Q1    1.5            2.247191\n",
            "3  abellana         672   11.5   Q1    1.5            2.247191\n",
            "4  ABELLANA         166   13.0   Q1    1.5            2.247191\n",
            "<class 'pandas.core.frame.DataFrame'>\n",
            "RangeIndex: 1068 entries, 0 to 1067\n",
            "Data columns (total 6 columns):\n",
            " #   Column              Non-Null Count  Dtype  \n",
            "---  ------              --------------  -----  \n",
            " 0   Surname             1068 non-null   object \n",
            " 1   Time Taken          1068 non-null   int64  \n",
            " 2   Grade               1068 non-null   float64\n",
            " 3   Q_ID                1068 non-null   object \n",
            " 4   Score               1068 non-null   float64\n",
            " 5   Incorrect Rate (%)  1068 non-null   float64\n",
            "dtypes: float64(3), int64(1), object(2)\n",
            "memory usage: 50.2+ KB\n",
            "None\n",
            "\n",
            "Correlation Matrix:\n",
            "                       Score    Time Taken  Incorrect Rate (%)\n",
            "Score               1.000000 -5.582432e-02        2.967179e-01\n",
            "Time Taken         -0.055824  1.000000e+00       -5.151367e-16\n",
            "Incorrect Rate (%)  0.296718 -5.151367e-16        1.000000e+00\n"
          ]
        },
        {
          "output_type": "stream",
          "name": "stderr",
          "text": [
            "<ipython-input-29-954eb8f77917>:46: SettingWithCopyWarning: \n",
            "A value is trying to be set on a copy of a slice from a DataFrame.\n",
            "Try using .loc[row_indexer,col_indexer] = value instead\n",
            "\n",
            "See the caveats in the documentation: https://pandas.pydata.org/pandas-docs/stable/user_guide/indexing.html#returning-a-view-versus-a-copy\n",
            "  X[['Score', 'Time Taken']] = scaler.fit_transform(X[['Score', 'Time Taken']])\n"
          ]
        },
        {
          "output_type": "display_data",
          "data": {
            "text/plain": [
              "<Figure size 600x500 with 2 Axes>"
            ],
            "image/png": "[encoded data removed]"
          },
          "metadata": {}
        },
        {
          "output_type": "stream",
          "name": "stdout",
          "text": [
            "X shape: (1068, 3)\n",
            "y shape: (1068,)\n",
            "Unique Q_IDs in df_melted: ['Q1' 'Q2' 'Q3' 'Q4' 'Q5' 'Q6']\n",
            "Unique Q_IDs in df_difficulty: ['Q1' 'Q2' 'Q3' 'Q4' 'Q5' 'Q6' 'Q7' 'Q8']\n"
          ]
        },
        {
          "output_type": "execute_result",
          "data": {
            "text/plain": [
              "      Score  Incorrect Rate (%)\n",
              "0       1.5            2.247191\n",
              "1       1.5            2.247191\n",
              "2       1.5            2.247191\n",
              "3       1.5            2.247191\n",
              "4       1.5            2.247191\n",
              "...     ...                 ...\n",
              "1063    2.0            5.617978\n",
              "1064    2.0            5.617978\n",
              "1065    2.0            5.617978\n",
              "1066    2.0            5.617978\n",
              "1067    2.0            5.617978\n",
              "\n",
              "[1068 rows x 2 columns]"
            ],
            "text/html": [
              "\n",
              "  <div id=\"df-78b12332-e933-4d9e-bd15-a2794dce7e16\" class=\"colab-df-container\">\n",
              "    <div>\n",
              "<style scoped>\n",
              "    .dataframe tbody tr th:only-of-type {\n",
              "        vertical-align: middle;\n",
              "    }\n",
              "\n",
              "    .dataframe tbody tr th {\n",
              "        vertical-align: top;\n",
              "    }\n",
              "\n",
              "    .dataframe thead th {\n",
              "        text-align: right;\n",
              "    }\n",
              "</style>\n",
              "<table border=\"1\" class=\"dataframe\">\n",
              "  <thead>\n",
              "    <tr style=\"text-align: right;\">\n",
              "      <th></th>\n",
              "      <th>Score</th>\n",
              "      <th>Incorrect Rate (%)</th>\n",
              "    </tr>\n",
              "  </thead>\n",
              "  <tbody>\n",
              "    <tr>\n",
              "      <th>0</th>\n",
              "      <td>1.5</td>\n",
              "      <td>2.247191</td>\n",
              "    </tr>\n",
              "    <tr>\n",
              "      <th>1</th>\n",
              "      <td>1.5</td>\n",
              "      <td>2.247191</td>\n",
              "    </tr>\n",
              "    <tr>\n",
              "      <th>2</th>\n",
              "      <td>1.5</td>\n",
              "      <td>2.247191</td>\n",
              "    </tr>\n",
              "    <tr>\n",
              "      <th>3</th>\n",
              "      <td>1.5</td>\n",
              "      <td>2.247191</td>\n",
              "    </tr>\n",
              "    <tr>\n",
              "      <th>4</th>\n",
              "      <td>1.5</td>\n",
              "      <td>2.247191</td>\n",
              "    </tr>\n",
              "    <tr>\n",
              "      <th>...</th>\n",
              "      <td>...</td>\n",
              "      <td>...</td>\n",
              "    </tr>\n",
              "    <tr>\n",
              "      <th>1063</th>\n",
              "      <td>2.0</td>\n",
              "      <td>5.617978</td>\n",
              "    </tr>\n",
              "    <tr>\n",
              "      <th>1064</th>\n",
              "      <td>2.0</td>\n",
              "      <td>5.617978</td>\n",
              "    </tr>\n",
              "    <tr>\n",
              "      <th>1065</th>\n",
              "      <td>2.0</td>\n",
              "      <td>5.617978</td>\n",
              "    </tr>\n",
              "    <tr>\n",
              "      <th>1066</th>\n",
              "      <td>2.0</td>\n",
              "      <td>5.617978</td>\n",
              "    </tr>\n",
              "    <tr>\n",
              "      <th>1067</th>\n",
              "      <td>2.0</td>\n",
              "      <td>5.617978</td>\n",
              "    </tr>\n",
              "  </tbody>\n",
              "</table>\n",
              "<p>1068 rows × 2 columns</p>\n",
              "</div>\n",
              "    <div class=\"colab-df-buttons\">\n",
              "\n",
              "  <div class=\"colab-df-container\">\n",
              "    <button class=\"colab-df-convert\" onclick=\"convertToInteractive('df-78b12332-e933-4d9e-bd15-a2794dce7e16')\"\n",
              "            title=\"Convert this dataframe to an interactive table.\"\n",
              "            style=\"display:none;\">\n",
              "\n",
              "  <svg xmlns=\"http://www.w3.org/2000/svg\" height=\"24px\" viewBox=\"0 -960 960 960\">\n",
              "    <path d=\"M120-120v-720h720v720H120Zm60-500h600v-160H180v160Zm220 220h160v-160H400v160Zm0 220h160v-160H400v160ZM180-400h160v-160H180v160Zm440 0h160v-160H620v160ZM180-180h160v-160H180v160Zm440 0h160v-160H620v160Z\"/>\n",
              "  </svg>\n",
              "    </button>\n",
              "\n",
              "  <style>\n",
              "    .colab-df-container {\n",
              "      display:flex;\n",
              "      gap: 12px;\n",
              "    }\n",
              "\n",
              "    .colab-df-convert {\n",
              "      background-color: #E8F0FE;\n",
              "      border: none;\n",
              "      border-radius: 50%;\n",
              "      cursor: pointer;\n",
              "      display: none;\n",
              "      fill: #1967D2;\n",
              "      height: 32px;\n",
              "      padding: 0 0 0 0;\n",
              "      width: 32px;\n",
              "    }\n",
              "\n",
              "    .colab-df-convert:hover {\n",
              "      background-color: #E2EBFA;\n",
              "      box-shadow: 0px 1px 2px rgba(60, 64, 67, 0.3), 0px 1px 3px 1px rgba(60, 64, 67, 0.15);\n",
              "      fill: #174EA6;\n",
              "    }\n",
              "\n",
              "    .colab-df-buttons div {\n",
              "      margin-bottom: 4px;\n",
              "    }\n",
              "\n",
              "    [theme=dark] .colab-df-convert {\n",
              "      background-color: #3B4455;\n",
              "      fill: #D2E3FC;\n",
              "    }\n",
              "\n",
              "    [theme=dark] .colab-df-convert:hover {\n",
              "      background-color: #434B5C;\n",
              "      box-shadow: 0px 1px 3px 1px rgba(0, 0, 0, 0.15);\n",
              "      filter: drop-shadow(0px 1px 2px rgba(0, 0, 0, 0.3));\n",
              "      fill: #FFFFFF;\n",
              "    }\n",
              "  </style>\n",
              "\n",
              "    <script>\n",
              "      const buttonEl =\n",
              "        document.querySelector('#df-78b12332-e933-4d9e-bd15-a2794dce7e16 button.colab-df-convert');\n",
              "      buttonEl.style.display =\n",
              "        google.colab.kernel.accessAllowed ? 'block' : 'none';\n",
              "\n",
              "      async function convertToInteractive(key) {\n",
              "        const element = document.querySelector('#df-78b12332-e933-4d9e-bd15-a2794dce7e16');\n",
              "        const dataTable =\n",
              "          await google.colab.kernel.invokeFunction('convertToInteractive',\n",
              "                                                    [key], {});\n",
              "        if (!dataTable) return;\n",
              "\n",
              "        const docLinkHtml = 'Like what you see? Visit the ' +\n",
              "          '<a target=\"_blank\" href=https://colab.research.google.com/notebooks/data_table.ipynb>data table notebook</a>'\n",
              "          + ' to learn more about interactive tables.';\n",
              "        element.innerHTML = '';\n",
              "        dataTable['output_type'] = 'display_data';\n",
              "        await google.colab.output.renderOutput(dataTable, element);\n",
              "        const docLink = document.createElement('div');\n",
              "        docLink.innerHTML = docLinkHtml;\n",
              "        element.appendChild(docLink);\n",
              "      }\n",
              "    </script>\n",
              "  </div>\n",
              "\n",
              "\n",
              "<div id=\"df-4bd83bd0-2406-427b-a904-0af82530e11e\">\n",
              "  <button class=\"colab-df-quickchart\" onclick=\"quickchart('df-4bd83bd0-2406-427b-a904-0af82530e11e')\"\n",
              "            title=\"Suggest charts\"\n",
              "            style=\"display:none;\">\n",
              "\n",
              "<svg xmlns=\"http://www.w3.org/2000/svg\" height=\"24px\"viewBox=\"0 0 24 24\"\n",
              "     width=\"24px\">\n",
              "    <g>\n",
              "        <path d=\"M19 3H5c-1.1 0-2 .9-2 2v14c0 1.1.9 2 2 2h14c1.1 0 2-.9 2-2V5c0-1.1-.9-2-2-2zM9 17H7v-7h2v7zm4 0h-2V7h2v10zm4 0h-2v-4h2v4z\"/>\n",
              "    </g>\n",
              "</svg>\n",
              "  </button>\n",
              "\n",
              "<style>\n",
              "  .colab-df-quickchart {\n",
              "      --bg-color: #E8F0FE;\n",
              "      --fill-color: #1967D2;\n",
              "      --hover-bg-color: #E2EBFA;\n",
              "      --hover-fill-color: #174EA6;\n",
              "      --disabled-fill-color: #AAA;\n",
              "      --disabled-bg-color: #DDD;\n",
              "  }\n",
              "\n",
              "  [theme=dark] .colab-df-quickchart {\n",
              "      --bg-color: #3B4455;\n",
              "      --fill-color: #D2E3FC;\n",
              "      --hover-bg-color: #434B5C;\n",
              "      --hover-fill-color: #FFFFFF;\n",
              "      --disabled-bg-color: #3B4455;\n",
              "      --disabled-fill-color: #666;\n",
              "  }\n",
              "\n",
              "  .colab-df-quickchart {\n",
              "    background-color: var(--bg-color);\n",
              "    border: none;\n",
              "    border-radius: 50%;\n",
              "    cursor: pointer;\n",
              "    display: none;\n",
              "    fill: var(--fill-color);\n",
              "    height: 32px;\n",
              "    padding: 0;\n",
              "    width: 32px;\n",
              "  }\n",
              "\n",
              "  .colab-df-quickchart:hover {\n",
              "    background-color: var(--hover-bg-color);\n",
              "    box-shadow: 0 1px 2px rgba(60, 64, 67, 0.3), 0 1px 3px 1px rgba(60, 64, 67, 0.15);\n",
              "    fill: var(--button-hover-fill-color);\n",
              "  }\n",
              "\n",
              "  .colab-df-quickchart-complete:disabled,\n",
              "  .colab-df-quickchart-complete:disabled:hover {\n",
              "    background-color: var(--disabled-bg-color);\n",
              "    fill: var(--disabled-fill-color);\n",
              "    box-shadow: none;\n",
              "  }\n",
              "\n",
              "  .colab-df-spinner {\n",
              "    border: 2px solid var(--fill-color);\n",
              "    border-color: transparent;\n",
              "    border-bottom-color: var(--fill-color);\n",
              "    animation:\n",
              "      spin 1s steps(1) infinite;\n",
              "  }\n",
              "\n",
              "  @keyframes spin {\n",
              "    0% {\n",
              "      border-color: transparent;\n",
              "      border-bottom-color: var(--fill-color);\n",
              "      border-left-color: var(--fill-color);\n",
              "    }\n",
              "    20% {\n",
              "      border-color: transparent;\n",
              "      border-left-color: var(--fill-color);\n",
              "      border-top-color: var(--fill-color);\n",
              "    }\n",
              "    30% {\n",
              "      border-color: transparent;\n",
              "      border-left-color: var(--fill-color);\n",
              "      border-top-color: var(--fill-color);\n",
              "      border-right-color: var(--fill-color);\n",
              "    }\n",
              "    40% {\n",
              "      border-color: transparent;\n",
              "      border-right-color: var(--fill-color);\n",
              "      border-top-color: var(--fill-color);\n",
              "    }\n",
              "    60% {\n",
              "      border-color: transparent;\n",
              "      border-right-color: var(--fill-color);\n",
              "    }\n",
              "    80% {\n",
              "      border-color: transparent;\n",
              "      border-right-color: var(--fill-color);\n",
              "      border-bottom-color: var(--fill-color);\n",
              "    }\n",
              "    90% {\n",
              "      border-color: transparent;\n",
              "      border-bottom-color: var(--fill-color);\n",
              "    }\n",
              "  }\n",
              "</style>\n",
              "\n",
              "  <script>\n",
              "    async function quickchart(key) {\n",
              "      const quickchartButtonEl =\n",
              "        document.querySelector('#' + key + ' button');\n",
              "      quickchartButtonEl.disabled = true;  // To prevent multiple clicks.\n",
              "      quickchartButtonEl.classList.add('colab-df-spinner');\n",
              "      try {\n",
              "        const charts = await google.colab.kernel.invokeFunction(\n",
              "            'suggestCharts', [key], {});\n",
              "      } catch (error) {\n",
              "        console.error('Error during call to suggestCharts:', error);\n",
              "      }\n",
              "      quickchartButtonEl.classList.remove('colab-df-spinner');\n",
              "      quickchartButtonEl.classList.add('colab-df-quickchart-complete');\n",
              "    }\n",
              "    (() => {\n",
              "      let quickchartButtonEl =\n",
              "        document.querySelector('#df-4bd83bd0-2406-427b-a904-0af82530e11e button');\n",
              "      quickchartButtonEl.style.display =\n",
              "        google.colab.kernel.accessAllowed ? 'block' : 'none';\n",
              "    })();\n",
              "  </script>\n",
              "</div>\n",
              "\n",
              "    </div>\n",
              "  </div>\n"
            ],
            "application/vnd.google.colaboratory.intrinsic+json": {
              "type": "dataframe",
              "summary": "{\n  \"name\": \"df_merged[['Score', 'Incorrect Rate (%)']]\",\n  \"rows\": 1068,\n  \"fields\": [\n    {\n      \"column\": \"Score\",\n      \"properties\": {\n        \"dtype\": \"number\",\n        \"std\": 0.4112559329923778,\n        \"min\": 0.0,\n        \"max\": 2.0,\n        \"num_unique_values\": 3,\n        \"samples\": [\n          1.5,\n          0.0,\n          2.0\n        ],\n        \"semantic_type\": \"\",\n        \"description\": \"\"\n      }\n    },\n    {\n      \"column\": \"Incorrect Rate (%)\",\n      \"properties\": {\n        \"dtype\": \"number\",\n        \"std\": 1.1549254668205902,\n        \"min\": 2.247191011235955,\n        \"max\": 5.617977528089887,\n        \"num_unique_values\": 5,\n        \"samples\": [\n          2.808988764044944,\n          5.617977528089887,\n          3.3707865168539324\n        ],\n        \"semantic_type\": \"\",\n        \"description\": \"\"\n      }\n    }\n  ]\n}"
            }
          },
          "metadata": {},
          "execution_count": 29
        }
      ],
      "source": [
        "import pandas as pd\n",
        "import matplotlib.pyplot as plt\n",
        "import seaborn as sns\n",
        "from sklearn.preprocessing import MinMaxScaler\n",
        "\n",
        "print(\"df_melted before merge:\")\n",
        "print(df_melted.head())\n",
        "print(df_melted.info())\n",
        "\n",
        "print(\"\\ndf_difficulty before merge:\")\n",
        "print(df_difficulty.head())\n",
        "print(df_difficulty.info())\n",
        "\n",
        "def clean_q_id(q_id):\n",
        "    \"\"\"Ensures Q_ID values are strings and removes 'Q' prefix if needed.\"\"\"\n",
        "    try:\n",
        "        return str(q_id).replace(\"Q\", \"\")\n",
        "    except (TypeError, ValueError):\n",
        "        print(f\"Warning: Could not clean Q_ID value: {q_id}\")\n",
        "        return str(q_id)  # Default to string format\n",
        "\n",
        "# Apply Q_ID cleaning to both DataFrames\n",
        "df_melted['Q_ID'] = df_melted['Q_ID'].astype(str)\n",
        "df_difficulty['Q_ID'] = df_difficulty['Q_ID'].astype(str)\n",
        "\n",
        "# 🟢 Ensure Incorrect Rate (%) is properly computed\n",
        "if 'Mistakes' in df_difficulty.columns and 'Attempts' in df_difficulty.columns:\n",
        "    df_difficulty['Incorrect Rate (%)'] = (df_difficulty['Mistakes'] / df_difficulty['Attempts']) * 100\n",
        "\n",
        "# Merge data on Q_ID\n",
        "df_merged = pd.merge(df_melted, df_difficulty[['Q_ID', 'Incorrect Rate (%)']], on=\"Q_ID\", how=\"left\")\n",
        "\n",
        "print(\"\\ndf_merged immediately after merge:\")\n",
        "print(df_merged.head())\n",
        "print(df_merged.info())\n",
        "\n",
        "# Drop rows where 'Incorrect Rate (%)' is missing\n",
        "df_merged.dropna(subset=['Incorrect Rate (%)'], inplace=True)\n",
        "\n",
        "# Select features and target variable\n",
        "X = df_merged[['Score', 'Time Taken', 'Grade']]\n",
        "y = df_merged['Incorrect Rate (%)']\n",
        "\n",
        "# 🟢 Normalize Features to Fix Scale Issues\n",
        "scaler = MinMaxScaler()\n",
        "X[['Score', 'Time Taken']] = scaler.fit_transform(X[['Score', 'Time Taken']])\n",
        "\n",
        "# Convert numeric values safely\n",
        "X = X.apply(pd.to_numeric, errors='coerce')\n",
        "y = y.apply(pd.to_numeric, errors='coerce')\n",
        "\n",
        "print(\"\\ndf_merged after dropping NaNs:\")\n",
        "print(df_merged.head())\n",
        "print(df_merged.info())\n",
        "\n",
        "# 🟢 Check for correlation issues\n",
        "print(\"\\nCorrelation Matrix:\")\n",
        "corr_matrix = df_merged[['Score', 'Time Taken', 'Incorrect Rate (%)']].corr()\n",
        "print(corr_matrix)\n",
        "\n",
        "plt.figure(figsize=(6,5))\n",
        "sns.heatmap(corr_matrix, annot=True, cmap='coolwarm')\n",
        "plt.title(\"Feature Correlation Heatmap\")\n",
        "plt.show()\n",
        "\n",
        "print(\"X shape:\", X.shape)\n",
        "print(\"y shape:\", y.shape)\n",
        "\n",
        "# Validate unique Q_ID values\n",
        "print(\"Unique Q_IDs in df_melted:\", df_melted['Q_ID'].unique())\n",
        "print(\"Unique Q_IDs in df_difficulty:\", df_difficulty['Q_ID'].unique())\n",
        "\n",
        "# Return final merged DataFrame (optional)\n",
        "df_merged[['Score', 'Incorrect Rate (%)']]\n"
      ]
    },
    {
      "cell_type": "markdown",
      "metadata": {
        "id": "dcxMdmcipTt5"
      },
      "source": [
        "**Handle Missing Values in Target (y)**"
      ]
    },
    {
      "cell_type": "code",
      "execution_count": null,
      "metadata": {
        "id": "ArPwTUTEopXj"
      },
      "outputs": [],
      "source": [
        "if y.isna().sum() > 0:\n",
        "    print(\"Warning: NaN values detected in target variable. Dropping them.\")\n",
        "    df_merged.loc[:, 'Incorrect Rate (%)'] = df_merged['Incorrect Rate (%)'].fillna(df_merged['Incorrect Rate (%)'].mean())\n",
        "    df_merged.loc[:, 'Time Taken'] = df_merged['Time Taken'].fillna(df_merged['Time Taken'].median())\n"
      ]
    },
    {
      "cell_type": "markdown",
      "metadata": {
        "id": "YUMYQQCTpX8j"
      },
      "source": [
        "**Convert 'Grade' to Numeric**"
      ]
    },
    {
      "cell_type": "code",
      "execution_count": null,
      "metadata": {
        "colab": {
          "base_uri": "https://localhost:8080/"
        },
        "id": "EdP8plyMpRAl",
        "outputId": "393b117f-bbc5-437b-f7bc-eae69aca500e"
      },
      "outputs": [
        {
          "output_type": "stream",
          "name": "stdout",
          "text": [
            "       Surname  Time Taken  Grade Q_ID  Score  Incorrect Rate (%)\n",
            "0     abadiano         450   16.0   Q1    1.5            2.247191\n",
            "1       abella         999   11.0   Q1    1.5            2.247191\n",
            "2       abella         341   16.0   Q1    1.5            2.247191\n",
            "3     abellana         672   11.5   Q1    1.5            2.247191\n",
            "4     ABELLANA         166   13.0   Q1    1.5            2.247191\n",
            "...        ...         ...    ...  ...    ...                 ...\n",
            "1063  Villamor           0   16.0   Q6    2.0            5.617978\n",
            "1064       Yap         291   16.0   Q6    2.0            5.617978\n",
            "1065    ybanez         229   16.0   Q6    2.0            5.617978\n",
            "1066        yu         143   16.0   Q6    2.0            5.617978\n",
            "1067     Zafra         484   16.0   Q6    2.0            5.617978\n",
            "\n",
            "[1068 rows x 6 columns]\n",
            "                       Score    Time Taken  Incorrect Rate (%)\n",
            "Score               1.000000 -5.582432e-02        2.967179e-01\n",
            "Time Taken         -0.055824  1.000000e+00       -5.151367e-16\n",
            "Incorrect Rate (%)  0.296718 -5.151367e-16        1.000000e+00\n"
          ]
        }
      ],
      "source": [
        "df_merged['Grade'] = pd.to_numeric(df_merged['Grade'], errors='coerce')\n",
        "df_merged['Grade'] = df_merged['Grade'].fillna(df_merged['Grade'].median())\n",
        "\n",
        "# Replace hyphens with NaN in the 'Score' column\n",
        "df_merged['Score'] = pd.to_numeric(df_merged['Score'], errors='coerce')\n",
        "\n",
        "# Impute missing values (NaN) with the median of the column\n",
        "df_merged['Score'] = df_merged['Score'].fillna(df_merged['Score'].median())\n",
        "\n",
        "# Update X to use the modified 'Score' column\n",
        "X = df_merged[['Score', 'Time Taken', 'Grade']]\n",
        "\n",
        "print(df_merged)\n",
        "\n",
        "corr_matrix = df_merged[['Score', 'Time Taken', 'Incorrect Rate (%)']].corr()\n",
        "print(corr_matrix)"
      ]
    },
    {
      "cell_type": "markdown",
      "metadata": {
        "id": "tVc9F2Okpin3"
      },
      "source": [
        "**Split Data into Training and Testing Sets**"
      ]
    },
    {
      "cell_type": "code",
      "execution_count": null,
      "metadata": {
        "id": "LS1coeyDpf1T",
        "colab": {
          "base_uri": "https://localhost:8080/"
        },
        "outputId": "2da112fe-f05d-42ba-a414-37fc1dad3059"
      },
      "outputs": [
        {
          "output_type": "stream",
          "name": "stdout",
          "text": [
            "Updated Shape of X: (1068, 3)\n",
            "Updated Shape of y: (1068,)\n"
          ]
        }
      ],
      "source": [
        "df_merged = df_merged.dropna(subset=['Score', 'Time Taken', 'Grade', 'Incorrect Rate (%)'])\n",
        "X = df_merged[['Score', 'Time Taken', 'Grade']]\n",
        "y = df_merged['Incorrect Rate (%)']\n",
        "print(\"Updated Shape of X:\", X.shape)\n",
        "print(\"Updated Shape of y:\", y.shape)\n",
        "\n",
        "X_train, X_test, y_train, y_test = train_test_split(X, y, test_size=0.2, train_size=0.8, random_state=42)\n"
      ]
    },
    {
      "cell_type": "markdown",
      "metadata": {
        "id": "IWKge8K6qKmv"
      },
      "source": [
        "**filling missing values with the median**"
      ]
    },
    {
      "cell_type": "code",
      "execution_count": null,
      "metadata": {
        "colab": {
          "base_uri": "https://localhost:8080/",
          "height": 80
        },
        "id": "m7WaBDkjplud",
        "outputId": "7748198e-a6b5-45f4-abb4-9e982fe97d76"
      },
      "outputs": [
        {
          "output_type": "execute_result",
          "data": {
            "text/plain": [
              "LinearRegression()"
            ],
            "text/html": [
              "<style>#sk-container-id-1 {\n",
              "  /* Definition of color scheme common for light and dark mode */\n",
              "  --sklearn-color-text: #000;\n",
              "  --sklearn-color-text-muted: #666;\n",
              "  --sklearn-color-line: gray;\n",
              "  /* Definition of color scheme for unfitted estimators */\n",
              "  --sklearn-color-unfitted-level-0: #fff5e6;\n",
              "  --sklearn-color-unfitted-level-1: #f6e4d2;\n",
              "  --sklearn-color-unfitted-level-2: #ffe0b3;\n",
              "  --sklearn-color-unfitted-level-3: chocolate;\n",
              "  /* Definition of color scheme for fitted estimators */\n",
              "  --sklearn-color-fitted-level-0: #f0f8ff;\n",
              "  --sklearn-color-fitted-level-1: #d4ebff;\n",
              "  --sklearn-color-fitted-level-2: #b3dbfd;\n",
              "  --sklearn-color-fitted-level-3: cornflowerblue;\n",
              "\n",
              "  /* Specific color for light theme */\n",
              "  --sklearn-color-text-on-default-background: var(--sg-text-color, var(--theme-code-foreground, var(--jp-content-font-color1, black)));\n",
              "  --sklearn-color-background: var(--sg-background-color, var(--theme-background, var(--jp-layout-color0, white)));\n",
              "  --sklearn-color-border-box: var(--sg-text-color, var(--theme-code-foreground, var(--jp-content-font-color1, black)));\n",
              "  --sklearn-color-icon: #696969;\n",
              "\n",
              "  @media (prefers-color-scheme: dark) {\n",
              "    /* Redefinition of color scheme for dark theme */\n",
              "    --sklearn-color-text-on-default-background: var(--sg-text-color, var(--theme-code-foreground, var(--jp-content-font-color1, white)));\n",
              "    --sklearn-color-background: var(--sg-background-color, var(--theme-background, var(--jp-layout-color0, #111)));\n",
              "    --sklearn-color-border-box: var(--sg-text-color, var(--theme-code-foreground, var(--jp-content-font-color1, white)));\n",
              "    --sklearn-color-icon: #878787;\n",
              "  }\n",
              "}\n",
              "\n",
              "#sk-container-id-1 {\n",
              "  color: var(--sklearn-color-text);\n",
              "}\n",
              "\n",
              "#sk-container-id-1 pre {\n",
              "  padding: 0;\n",
              "}\n",
              "\n",
              "#sk-container-id-1 input.sk-hidden--visually {\n",
              "  border: 0;\n",
              "  clip: rect(1px 1px 1px 1px);\n",
              "  clip: rect(1px, 1px, 1px, 1px);\n",
              "  height: 1px;\n",
              "  margin: -1px;\n",
              "  overflow: hidden;\n",
              "  padding: 0;\n",
              "  position: absolute;\n",
              "  width: 1px;\n",
              "}\n",
              "\n",
              "#sk-container-id-1 div.sk-dashed-wrapped {\n",
              "  border: 1px dashed var(--sklearn-color-line);\n",
              "  margin: 0 0.4em 0.5em 0.4em;\n",
              "  box-sizing: border-box;\n",
              "  padding-bottom: 0.4em;\n",
              "  background-color: var(--sklearn-color-background);\n",
              "}\n",
              "\n",
              "#sk-container-id-1 div.sk-container {\n",
              "  /* jupyter's `normalize.less` sets `[hidden] { display: none; }`\n",
              "     but bootstrap.min.css set `[hidden] { display: none !important; }`\n",
              "     so we also need the `!important` here to be able to override the\n",
              "     default hidden behavior on the sphinx rendered scikit-learn.org.\n",
              "     See: https://github.com/scikit-learn/scikit-learn/issues/21755 */\n",
              "  display: inline-block !important;\n",
              "  position: relative;\n",
              "}\n",
              "\n",
              "#sk-container-id-1 div.sk-text-repr-fallback {\n",
              "  display: none;\n",
              "}\n",
              "\n",
              "div.sk-parallel-item,\n",
              "div.sk-serial,\n",
              "div.sk-item {\n",
              "  /* draw centered vertical line to link estimators */\n",
              "  background-image: linear-gradient(var(--sklearn-color-text-on-default-background), var(--sklearn-color-text-on-default-background));\n",
              "  background-size: 2px 100%;\n",
              "  background-repeat: no-repeat;\n",
              "  background-position: center center;\n",
              "}\n",
              "\n",
              "/* Parallel-specific style estimator block */\n",
              "\n",
              "#sk-container-id-1 div.sk-parallel-item::after {\n",
              "  content: \"\";\n",
              "  width: 100%;\n",
              "  border-bottom: 2px solid var(--sklearn-color-text-on-default-background);\n",
              "  flex-grow: 1;\n",
              "}\n",
              "\n",
              "#sk-container-id-1 div.sk-parallel {\n",
              "  display: flex;\n",
              "  align-items: stretch;\n",
              "  justify-content: center;\n",
              "  background-color: var(--sklearn-color-background);\n",
              "  position: relative;\n",
              "}\n",
              "\n",
              "#sk-container-id-1 div.sk-parallel-item {\n",
              "  display: flex;\n",
              "  flex-direction: column;\n",
              "}\n",
              "\n",
              "#sk-container-id-1 div.sk-parallel-item:first-child::after {\n",
              "  align-self: flex-end;\n",
              "  width: 50%;\n",
              "}\n",
              "\n",
              "#sk-container-id-1 div.sk-parallel-item:last-child::after {\n",
              "  align-self: flex-start;\n",
              "  width: 50%;\n",
              "}\n",
              "\n",
              "#sk-container-id-1 div.sk-parallel-item:only-child::after {\n",
              "  width: 0;\n",
              "}\n",
              "\n",
              "/* Serial-specific style estimator block */\n",
              "\n",
              "#sk-container-id-1 div.sk-serial {\n",
              "  display: flex;\n",
              "  flex-direction: column;\n",
              "  align-items: center;\n",
              "  background-color: var(--sklearn-color-background);\n",
              "  padding-right: 1em;\n",
              "  padding-left: 1em;\n",
              "}\n",
              "\n",
              "\n",
              "/* Toggleable style: style used for estimator/Pipeline/ColumnTransformer box that is\n",
              "clickable and can be expanded/collapsed.\n",
              "- Pipeline and ColumnTransformer use this feature and define the default style\n",
              "- Estimators will overwrite some part of the style using the `sk-estimator` class\n",
              "*/\n",
              "\n",
              "/* Pipeline and ColumnTransformer style (default) */\n",
              "\n",
              "#sk-container-id-1 div.sk-toggleable {\n",
              "  /* Default theme specific background. It is overwritten whether we have a\n",
              "  specific estimator or a Pipeline/ColumnTransformer */\n",
              "  background-color: var(--sklearn-color-background);\n",
              "}\n",
              "\n",
              "/* Toggleable label */\n",
              "#sk-container-id-1 label.sk-toggleable__label {\n",
              "  cursor: pointer;\n",
              "  display: flex;\n",
              "  width: 100%;\n",
              "  margin-bottom: 0;\n",
              "  padding: 0.5em;\n",
              "  box-sizing: border-box;\n",
              "  text-align: center;\n",
              "  align-items: start;\n",
              "  justify-content: space-between;\n",
              "  gap: 0.5em;\n",
              "}\n",
              "\n",
              "#sk-container-id-1 label.sk-toggleable__label .caption {\n",
              "  font-size: 0.6rem;\n",
              "  font-weight: lighter;\n",
              "  color: var(--sklearn-color-text-muted);\n",
              "}\n",
              "\n",
              "#sk-container-id-1 label.sk-toggleable__label-arrow:before {\n",
              "  /* Arrow on the left of the label */\n",
              "  content: \"▸\";\n",
              "  float: left;\n",
              "  margin-right: 0.25em;\n",
              "  color: var(--sklearn-color-icon);\n",
              "}\n",
              "\n",
              "#sk-container-id-1 label.sk-toggleable__label-arrow:hover:before {\n",
              "  color: var(--sklearn-color-text);\n",
              "}\n",
              "\n",
              "/* Toggleable content - dropdown */\n",
              "\n",
              "#sk-container-id-1 div.sk-toggleable__content {\n",
              "  max-height: 0;\n",
              "  max-width: 0;\n",
              "  overflow: hidden;\n",
              "  text-align: left;\n",
              "  /* unfitted */\n",
              "  background-color: var(--sklearn-color-unfitted-level-0);\n",
              "}\n",
              "\n",
              "#sk-container-id-1 div.sk-toggleable__content.fitted {\n",
              "  /* fitted */\n",
              "  background-color: var(--sklearn-color-fitted-level-0);\n",
              "}\n",
              "\n",
              "#sk-container-id-1 div.sk-toggleable__content pre {\n",
              "  margin: 0.2em;\n",
              "  border-radius: 0.25em;\n",
              "  color: var(--sklearn-color-text);\n",
              "  /* unfitted */\n",
              "  background-color: var(--sklearn-color-unfitted-level-0);\n",
              "}\n",
              "\n",
              "#sk-container-id-1 div.sk-toggleable__content.fitted pre {\n",
              "  /* unfitted */\n",
              "  background-color: var(--sklearn-color-fitted-level-0);\n",
              "}\n",
              "\n",
              "#sk-container-id-1 input.sk-toggleable__control:checked~div.sk-toggleable__content {\n",
              "  /* Expand drop-down */\n",
              "  max-height: 200px;\n",
              "  max-width: 100%;\n",
              "  overflow: auto;\n",
              "}\n",
              "\n",
              "#sk-container-id-1 input.sk-toggleable__control:checked~label.sk-toggleable__label-arrow:before {\n",
              "  content: \"▾\";\n",
              "}\n",
              "\n",
              "/* Pipeline/ColumnTransformer-specific style */\n",
              "\n",
              "#sk-container-id-1 div.sk-label input.sk-toggleable__control:checked~label.sk-toggleable__label {\n",
              "  color: var(--sklearn-color-text);\n",
              "  background-color: var(--sklearn-color-unfitted-level-2);\n",
              "}\n",
              "\n",
              "#sk-container-id-1 div.sk-label.fitted input.sk-toggleable__control:checked~label.sk-toggleable__label {\n",
              "  background-color: var(--sklearn-color-fitted-level-2);\n",
              "}\n",
              "\n",
              "/* Estimator-specific style */\n",
              "\n",
              "/* Colorize estimator box */\n",
              "#sk-container-id-1 div.sk-estimator input.sk-toggleable__control:checked~label.sk-toggleable__label {\n",
              "  /* unfitted */\n",
              "  background-color: var(--sklearn-color-unfitted-level-2);\n",
              "}\n",
              "\n",
              "#sk-container-id-1 div.sk-estimator.fitted input.sk-toggleable__control:checked~label.sk-toggleable__label {\n",
              "  /* fitted */\n",
              "  background-color: var(--sklearn-color-fitted-level-2);\n",
              "}\n",
              "\n",
              "#sk-container-id-1 div.sk-label label.sk-toggleable__label,\n",
              "#sk-container-id-1 div.sk-label label {\n",
              "  /* The background is the default theme color */\n",
              "  color: var(--sklearn-color-text-on-default-background);\n",
              "}\n",
              "\n",
              "/* On hover, darken the color of the background */\n",
              "#sk-container-id-1 div.sk-label:hover label.sk-toggleable__label {\n",
              "  color: var(--sklearn-color-text);\n",
              "  background-color: var(--sklearn-color-unfitted-level-2);\n",
              "}\n",
              "\n",
              "/* Label box, darken color on hover, fitted */\n",
              "#sk-container-id-1 div.sk-label.fitted:hover label.sk-toggleable__label.fitted {\n",
              "  color: var(--sklearn-color-text);\n",
              "  background-color: var(--sklearn-color-fitted-level-2);\n",
              "}\n",
              "\n",
              "/* Estimator label */\n",
              "\n",
              "#sk-container-id-1 div.sk-label label {\n",
              "  font-family: monospace;\n",
              "  font-weight: bold;\n",
              "  display: inline-block;\n",
              "  line-height: 1.2em;\n",
              "}\n",
              "\n",
              "#sk-container-id-1 div.sk-label-container {\n",
              "  text-align: center;\n",
              "}\n",
              "\n",
              "/* Estimator-specific */\n",
              "#sk-container-id-1 div.sk-estimator {\n",
              "  font-family: monospace;\n",
              "  border: 1px dotted var(--sklearn-color-border-box);\n",
              "  border-radius: 0.25em;\n",
              "  box-sizing: border-box;\n",
              "  margin-bottom: 0.5em;\n",
              "  /* unfitted */\n",
              "  background-color: var(--sklearn-color-unfitted-level-0);\n",
              "}\n",
              "\n",
              "#sk-container-id-1 div.sk-estimator.fitted {\n",
              "  /* fitted */\n",
              "  background-color: var(--sklearn-color-fitted-level-0);\n",
              "}\n",
              "\n",
              "/* on hover */\n",
              "#sk-container-id-1 div.sk-estimator:hover {\n",
              "  /* unfitted */\n",
              "  background-color: var(--sklearn-color-unfitted-level-2);\n",
              "}\n",
              "\n",
              "#sk-container-id-1 div.sk-estimator.fitted:hover {\n",
              "  /* fitted */\n",
              "  background-color: var(--sklearn-color-fitted-level-2);\n",
              "}\n",
              "\n",
              "/* Specification for estimator info (e.g. \"i\" and \"?\") */\n",
              "\n",
              "/* Common style for \"i\" and \"?\" */\n",
              "\n",
              ".sk-estimator-doc-link,\n",
              "a:link.sk-estimator-doc-link,\n",
              "a:visited.sk-estimator-doc-link {\n",
              "  float: right;\n",
              "  font-size: smaller;\n",
              "  line-height: 1em;\n",
              "  font-family: monospace;\n",
              "  background-color: var(--sklearn-color-background);\n",
              "  border-radius: 1em;\n",
              "  height: 1em;\n",
              "  width: 1em;\n",
              "  text-decoration: none !important;\n",
              "  margin-left: 0.5em;\n",
              "  text-align: center;\n",
              "  /* unfitted */\n",
              "  border: var(--sklearn-color-unfitted-level-1) 1pt solid;\n",
              "  color: var(--sklearn-color-unfitted-level-1);\n",
              "}\n",
              "\n",
              ".sk-estimator-doc-link.fitted,\n",
              "a:link.sk-estimator-doc-link.fitted,\n",
              "a:visited.sk-estimator-doc-link.fitted {\n",
              "  /* fitted */\n",
              "  border: var(--sklearn-color-fitted-level-1) 1pt solid;\n",
              "  color: var(--sklearn-color-fitted-level-1);\n",
              "}\n",
              "\n",
              "/* On hover */\n",
              "div.sk-estimator:hover .sk-estimator-doc-link:hover,\n",
              ".sk-estimator-doc-link:hover,\n",
              "div.sk-label-container:hover .sk-estimator-doc-link:hover,\n",
              ".sk-estimator-doc-link:hover {\n",
              "  /* unfitted */\n",
              "  background-color: var(--sklearn-color-unfitted-level-3);\n",
              "  color: var(--sklearn-color-background);\n",
              "  text-decoration: none;\n",
              "}\n",
              "\n",
              "div.sk-estimator.fitted:hover .sk-estimator-doc-link.fitted:hover,\n",
              ".sk-estimator-doc-link.fitted:hover,\n",
              "div.sk-label-container:hover .sk-estimator-doc-link.fitted:hover,\n",
              ".sk-estimator-doc-link.fitted:hover {\n",
              "  /* fitted */\n",
              "  background-color: var(--sklearn-color-fitted-level-3);\n",
              "  color: var(--sklearn-color-background);\n",
              "  text-decoration: none;\n",
              "}\n",
              "\n",
              "/* Span, style for the box shown on hovering the info icon */\n",
              ".sk-estimator-doc-link span {\n",
              "  display: none;\n",
              "  z-index: 9999;\n",
              "  position: relative;\n",
              "  font-weight: normal;\n",
              "  right: .2ex;\n",
              "  padding: .5ex;\n",
              "  margin: .5ex;\n",
              "  width: min-content;\n",
              "  min-width: 20ex;\n",
              "  max-width: 50ex;\n",
              "  color: var(--sklearn-color-text);\n",
              "  box-shadow: 2pt 2pt 4pt #999;\n",
              "  /* unfitted */\n",
              "  background: var(--sklearn-color-unfitted-level-0);\n",
              "  border: .5pt solid var(--sklearn-color-unfitted-level-3);\n",
              "}\n",
              "\n",
              ".sk-estimator-doc-link.fitted span {\n",
              "  /* fitted */\n",
              "  background: var(--sklearn-color-fitted-level-0);\n",
              "  border: var(--sklearn-color-fitted-level-3);\n",
              "}\n",
              "\n",
              ".sk-estimator-doc-link:hover span {\n",
              "  display: block;\n",
              "}\n",
              "\n",
              "/* \"?\"-specific style due to the `<a>` HTML tag */\n",
              "\n",
              "#sk-container-id-1 a.estimator_doc_link {\n",
              "  float: right;\n",
              "  font-size: 1rem;\n",
              "  line-height: 1em;\n",
              "  font-family: monospace;\n",
              "  background-color: var(--sklearn-color-background);\n",
              "  border-radius: 1rem;\n",
              "  height: 1rem;\n",
              "  width: 1rem;\n",
              "  text-decoration: none;\n",
              "  /* unfitted */\n",
              "  color: var(--sklearn-color-unfitted-level-1);\n",
              "  border: var(--sklearn-color-unfitted-level-1) 1pt solid;\n",
              "}\n",
              "\n",
              "#sk-container-id-1 a.estimator_doc_link.fitted {\n",
              "  /* fitted */\n",
              "  border: var(--sklearn-color-fitted-level-1) 1pt solid;\n",
              "  color: var(--sklearn-color-fitted-level-1);\n",
              "}\n",
              "\n",
              "/* On hover */\n",
              "#sk-container-id-1 a.estimator_doc_link:hover {\n",
              "  /* unfitted */\n",
              "  background-color: var(--sklearn-color-unfitted-level-3);\n",
              "  color: var(--sklearn-color-background);\n",
              "  text-decoration: none;\n",
              "}\n",
              "\n",
              "#sk-container-id-1 a.estimator_doc_link.fitted:hover {\n",
              "  /* fitted */\n",
              "  background-color: var(--sklearn-color-fitted-level-3);\n",
              "}\n",
              "</style><div id=\"sk-container-id-1\" class=\"sk-top-container\"><div class=\"sk-text-repr-fallback\"><pre>LinearRegression()</pre><b>In a Jupyter environment, please rerun this cell to show the HTML representation or trust the notebook. <br />On GitHub, the HTML representation is unable to render, please try loading this page with nbviewer.org.</b></div><div class=\"sk-container\" hidden><div class=\"sk-item\"><div class=\"sk-estimator fitted sk-toggleable\"><input class=\"sk-toggleable__control sk-hidden--visually\" id=\"sk-estimator-id-1\" type=\"checkbox\" checked><label for=\"sk-estimator-id-1\" class=\"sk-toggleable__label fitted sk-toggleable__label-arrow\"><div><div>LinearRegression</div></div><div><a class=\"sk-estimator-doc-link fitted\" rel=\"noreferrer\" target=\"_blank\" href=\"https://scikit-learn.org/1.6/modules/generated/sklearn.linear_model.LinearRegression.html\">?<span>Documentation for LinearRegression</span></a><span class=\"sk-estimator-doc-link fitted\">i<span>Fitted</span></span></div></label><div class=\"sk-toggleable__content fitted\"><pre>LinearRegression()</pre></div> </div></div></div></div>"
            ]
          },
          "metadata": {},
          "execution_count": 33
        }
      ],
      "source": [
        "from sklearn.impute import SimpleImputer\n",
        "from sklearn.linear_model import LinearRegression\n",
        "\n",
        "# Create an imputer object with median strategy\n",
        "imputer = SimpleImputer(strategy='median')\n",
        "\n",
        "# Fit the imputer on the training data and transform both training and testing data\n",
        "X_train = pd.DataFrame(imputer.fit_transform(X_train), columns=X.columns)\n",
        "X_test = pd.DataFrame(imputer.transform(X_test), columns=X.columns)\n",
        "\n",
        "# Fit the linear regression model\n",
        "model = LinearRegression()\n",
        "model.fit(X_train, y_train)"
      ]
    },
    {
      "cell_type": "markdown",
      "metadata": {
        "id": "zbXEHWtXqTMa"
      },
      "source": [
        "**Make predictions**"
      ]
    },
    {
      "cell_type": "code",
      "execution_count": null,
      "metadata": {
        "colab": {
          "base_uri": "https://localhost:8080/"
        },
        "id": "f5ZpPICaqPyZ",
        "outputId": "fd94e280-1fb8-435a-d966-426891e1f256"
      },
      "outputs": [
        {
          "output_type": "stream",
          "name": "stdout",
          "text": [
            "[3.68543009 3.16355369 2.98088837 3.14290562 3.72654078 3.15174596\n",
            " 3.66373255 3.69767057 3.69847423 3.720606   3.15904079 3.94447847\n",
            " 3.69946336 3.17282678 3.68543009 3.16472829 3.78149929 3.13993823\n",
            " 3.70335806 3.14098918 3.17573235 3.16479011 3.76449862 3.73797759\n",
            " 3.68543009 3.7241916  3.74644701 3.15848441 4.00902923 3.13214883\n",
            " 3.91659739 3.13214883 3.70341988 2.45615669 3.68543009 3.7241916\n",
            " 3.13214883 3.98726838 2.00388879 3.21313381 3.7245007  3.72511891\n",
            " 3.15409514 3.69884516 3.97657342 2.36669224 3.75343274 3.67170741\n",
            " 3.7241916  3.93668908 4.15126258 3.72462434 3.70323442 4.01533493\n",
            " 3.19767866 3.71702041 3.71955505 3.71955505 3.68543009 3.00246376\n",
            " 3.71807136 3.14086554 3.72623168 3.18240897 3.96828946 4.21169723\n",
            " 3.43225615 3.71510397 3.68543009 3.13214883 3.68543009 3.39193907\n",
            " 3.69544502 3.72301701 3.38340783 3.15866987 3.14068008 3.68543009\n",
            " 3.69383769 3.99585138 3.76196398 3.90918041 3.13214883 3.13214883\n",
            " 3.88197786 3.68543009 3.15013863 3.94522032 3.71541307 3.16207\n",
            " 4.01873506 3.98726838 3.3286966  3.36331613 3.69315766 3.69457954\n",
            " 3.18543818 3.44783494 3.45574797 3.70341988 3.71269297 3.68543009\n",
            " 3.68543009 3.69414679 3.34464632 3.98510466 3.71541307 3.69680508\n",
            " 3.14797491 3.41067071 3.69321948 3.13214883 3.89792757 3.71096199\n",
            " 3.14086554 3.72623168 3.69334312 3.1599681  3.68543009 3.97855168\n",
            " 3.72511891 3.69946336 3.71664949 3.71232205 3.69383769 3.1455639\n",
            " 3.15230235 3.72610804 3.72666442 3.98510466 4.11963632 3.16373916\n",
            " 3.72654078 3.17134309 3.20868272 3.19767866 3.69884516 3.42582681\n",
            " 3.15298237 3.69334312 4.026536   3.20188246 3.19316576 3.42329216\n",
            " 3.88197786 3.20206792 3.15768074 3.59798132 3.17091034 3.13214883\n",
            " 3.76449862 3.97657342 3.69359041 3.45129689 3.7241916  3.16849934\n",
            " 3.53004626 3.69340495 3.78465214 3.17295042 3.70793278 3.1602772\n",
            " 3.15298237 3.16732475 3.70570724 3.69544502 3.7241916  3.97855168\n",
            " 3.75095991 2.45615669 3.14086554 3.46205367 3.14012369 3.91659739\n",
            " 3.18055436 3.72536619 3.70793278 4.11963632 3.65841598 3.72969363\n",
            " 3.78465214 3.15941171 3.15904079 3.14352382 3.70941648 1.68480255\n",
            " 4.21862114 4.57981725 4.21862114 3.71460941 3.82143539 3.15322966\n",
            " 3.68543009 3.70570724 3.71800954 3.68543009 3.68543009 3.70651091\n",
            " 3.70502722 1.72356406 3.72827176 3.85962469 3.75534918 4.15126258\n",
            " 3.69457954 3.71269297 3.699587   3.39119722 4.00457814 3.82143539\n",
            " 3.69340495 3.72777719 3.68543009 3.16336823]\n"
          ]
        }
      ],
      "source": [
        "y_pred = model.predict(X_test)\n",
        "print(y_pred)"
      ]
    },
    {
      "cell_type": "code",
      "execution_count": null,
      "metadata": {
        "id": "tRzYN8kfqXnh"
      },
      "outputs": [],
      "source": [
        "mae = mean_absolute_error(y_test, y_pred)\n",
        "rmse = np.sqrt(mean_squared_error(y_test, y_pred))"
      ]
    },
    {
      "cell_type": "code",
      "execution_count": null,
      "metadata": {
        "colab": {
          "base_uri": "https://localhost:8080/"
        },
        "id": "fhRrx8nhqhSP",
        "outputId": "ccb2e910-a114-4fd6-eec3-98997abff232"
      },
      "outputs": [
        {
          "output_type": "stream",
          "name": "stdout",
          "text": [
            "Mean Absolute Error (MAE): 0.9388312580474825\n",
            "Root Mean Squared Error (RMSE): 1.1009024969497054\n"
          ]
        }
      ],
      "source": [
        "print(\"Mean Absolute Error (MAE):\", mae)\n",
        "print(\"Root Mean Squared Error (RMSE):\", rmse)"
      ]
    },
    {
      "cell_type": "code",
      "execution_count": null,
      "metadata": {
        "colab": {
          "base_uri": "https://localhost:8080/"
        },
        "id": "N0Fwe2muqksh",
        "outputId": "4045edc8-f716-4887-cb47-2f6c7670322b"
      },
      "outputs": [
        {
          "output_type": "stream",
          "name": "stdout",
          "text": [
            "✅ Model Trained Successfully!\n",
            "📌 Model Coefficients: [ 1.10656251e+00  6.18205897e-05 -9.42864564e-02]\n",
            "📌 Intercept: 2.980888373611208\n",
            "📊 Mean Absolute Error (MAE): 0.9388312580474825\n",
            "📊 Root Mean Squared Error (RMSE): 1.1009024969497054\n"
          ]
        }
      ],
      "source": [
        "print(\"✅ Model Trained Successfully!\")\n",
        "print(\"📌 Model Coefficients:\", model.coef_)\n",
        "print(\"📌 Intercept:\", model.intercept_)\n",
        "print(\"📊 Mean Absolute Error (MAE):\", mae)\n",
        "print(\"📊 Root Mean Squared Error (RMSE):\", rmse)"
      ]
    },
    {
      "cell_type": "markdown",
      "metadata": {
        "id": "IwD9DGghrRdm"
      },
      "source": [
        "\n",
        "\n",
        "> Add blockquote\n",
        "\n",
        "\n",
        "Our AI-driven model for assessing problem difficulty in Discrete Mathematics was trained using multiple linear regression. This means the model tries to find a relationship between different features of a problem and how difficult students find it. The equation follows this format:"
      ]
    },
    {
      "cell_type": "markdown",
      "metadata": {
        "id": "K4hELqm2sZel"
      },
      "source": [
        "![image.png](data:image/png;base64,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)"
      ]
    },
    {
      "cell_type": "markdown",
      "metadata": {
        "id": "m0CmQprCsdgW"
      },
      "source": [
        "Where:\n",
        "\n",
        "*   Score = The marks a student received on the problem.\n",
        "*   Time Taken = How long it took to solve the problem.\n",
        "*   Grade = The student’s overall academic performance or level.\n",
        "*   Intercept = The base incorrect rate when all features are zero.\n",
        "\n"
      ]
    },
    {
      "cell_type": "markdown",
      "metadata": {
        "id": "2F1WDPgTspBN"
      },
      "source": [
        "**Understanding the Coefficients**\n",
        "Each coefficient (\n",
        "𝛽\n",
        "β) tells us how much the incorrect rate (%) changes when a feature increases by 1 unit, while keeping other features constant."
      ]
    },
    {
      "cell_type": "markdown",
      "metadata": {
        "id": "E0_7Qld8s8ZF"
      },
      "source": [
        "Score (Coefficient: -0.6683)\n",
        "\n",
        "\n",
        "*   Negative coefficient (-0.6683) → As Score increases, the Incorrect Rate decreases.\n",
        "Meaning: Higher scores generally mean fewer mistakes.\n",
        "Time Taken (Coefficient: 0.1301)\n",
        "*   Positive coefficient (0.1301) → As Time Taken increases, the Incorrect Rate slightly increases.\n",
        "Meaning: Taking longer to solve a problem is slightly associated with making more mistakes.\n",
        "Grade (Coefficient: TBD)\n",
        "\n",
        "*   If the coefficient is negative, then higher-performing students (higher grades) make fewer mistakes.\n",
        "If positive, then even higher-grade students struggle more with certain problems.\n"
      ]
    },
    {
      "cell_type": "markdown",
      "metadata": {
        "id": "rUhfSYPBt_B_"
      },
      "source": [
        "**Model Accuracy & Performance**\n",
        "\n",
        "*   Mean Absolute Error (MAE: 1.45%) → On average, the model’s mistake prediction is off by about 1.45 percentage points.\n",
        "\n",
        "*   Root Mean Squared Error (RMSE: 2.04%) → The typical error in predictions is around 2.04 percentage points.\n",
        "\n",
        "\n"
      ]
    },
    {
      "cell_type": "markdown",
      "metadata": {
        "id": "qBjSdVdOs_of"
      },
      "source": [
        "**What this tells us**\n",
        "\n",
        "*  Students with higher scores tend to have lower incorrect rates (makes sense—if you got a higher score, you made fewer mistakes).\n",
        "\n",
        "*   Students who spend more time on a problem tend to have slightly higher incorrect rates, possibly because they struggled more.\n",
        "\n",
        "*   The model is fairly accurate but has a bit of error, meaning actual mistakes could vary slightly from the prediction.\n",
        "\n",
        "\n",
        "\n"
      ]
    },
    {
      "cell_type": "markdown",
      "metadata": {
        "id": "Ww3uKHaVwNmv"
      },
      "source": [
        "**Feature Extraction**"
      ]
    },
    {
      "cell_type": "markdown",
      "metadata": {
        "id": "3EdxdieSwdHl"
      },
      "source": [
        "**Extracting Mathematical Complexity**\n",
        "\n",
        "This will analyze if the question involves sequences, summations, nested expressions, etc."
      ]
    },
    {
      "cell_type": "code",
      "execution_count": null,
      "metadata": {
        "id": "r-8Yex5cwTDK"
      },
      "outputs": [],
      "source": [
        "import re\n",
        "import sympy as sp\n",
        "import numpy as np\n",
        "import pandas as pd\n",
        "\n",
        "def extract_math_features(question_text):\n",
        "    features = {\n",
        "        \"contains_sequence\": 0,\n",
        "        \"contains_summation\": 0,\n",
        "        \"num_variables\": 0,\n",
        "        \"nested_summation\": 0\n",
        "    }\n",
        "\n",
        "    # Detect common sequence keywords\n",
        "    sequence_keywords = [\"arithmetic sequence\", \"geometric sequence\", \"Fibonacci\", \"recurrence\", \"term\"]\n",
        "    if any(keyword in question_text.lower() for keyword in sequence_keywords):\n",
        "        features[\"contains_sequence\"] = 1\n",
        "\n",
        "    # Detect summation notation (Σ or sum formulas)\n",
        "    if \"sum\" in question_text.lower() or \"Σ\" in question_text:\n",
        "        features[\"contains_summation\"] = 1\n",
        "\n",
        "    # Detect number of variables (using regex for algebraic expressions)\n",
        "    variables = re.findall(r'[a-zA-Z]', question_text)\n",
        "    features[\"num_variables\"] = len(set(variables))  # Unique variable count\n",
        "\n",
        "    # Detect nested summations (Σ appearing more than once)\n",
        "    features[\"nested_summation\"] = question_text.count(\"Σ\")\n",
        "\n",
        "    return features\n"
      ]
    },
    {
      "cell_type": "markdown",
      "metadata": {
        "id": "-uxO5GafwlxU"
      },
      "source": [
        "**Extracting Text-Based Features (NLP)**\n",
        "\n",
        "This analyzes word complexity, question length, and math terms."
      ]
    },
    {
      "cell_type": "code",
      "execution_count": null,
      "metadata": {
        "colab": {
          "base_uri": "https://localhost:8080/"
        },
        "id": "GZGCM9gDwq56",
        "outputId": "da8c91c2-bfa5-428f-a5e1-4284b2db01b5"
      },
      "outputs": [
        {
          "output_type": "stream",
          "name": "stderr",
          "text": [
            "[nltk_data] Downloading package punkt to /root/nltk_data...\n",
            "[nltk_data]   Unzipping tokenizers/punkt.zip.\n",
            "[nltk_data] Downloading package stopwords to /root/nltk_data...\n",
            "[nltk_data]   Unzipping corpora/stopwords.zip.\n"
          ]
        }
      ],
      "source": [
        "import nltk\n",
        "from nltk.tokenize import word_tokenize\n",
        "from nltk.corpus import stopwords\n",
        "\n",
        "nltk.download('punkt')\n",
        "nltk.download('stopwords')\n",
        "\n",
        "def extract_text_features(question_text):\n",
        "    tokens = word_tokenize(question_text.lower())\n",
        "    words = [word for word in tokens if word.isalpha()]\n",
        "    stop_words = set(stopwords.words('english'))\n",
        "    filtered_words = [word for word in words if word not in stop_words]\n",
        "\n",
        "    return {\n",
        "        \"word_count\": len(words),\n",
        "        \"unique_word_count\": len(set(words)),\n",
        "        \"math_term_count\": sum(1 for w in words if w in [\"sum\", \"sequence\", \"term\", \"series\", \"recursion\", \"nth\"])\n",
        "    }\n"
      ]
    },
    {
      "cell_type": "markdown",
      "metadata": {
        "id": "luiC3_B8w5vN"
      },
      "source": [
        "**Extracting Student Performance Features**\n",
        "\n",
        "This extracts score averages, attempt counts, and common errors."
      ]
    },
    {
      "cell_type": "code",
      "execution_count": null,
      "metadata": {
        "id": "PMCK4ovKw6SX"
      },
      "outputs": [],
      "source": [
        "def extract_student_performance(df):\n",
        "    return {\n",
        "        \"avg_score\": df[\"score\"].mean(),\n",
        "        \"num_attempts\": df[\"attempts\"].sum(),\n",
        "        \"avg_time_spent\": df[\"time_spent\"].mean()\n",
        "    }"
      ]
    },
    {
      "cell_type": "markdown",
      "metadata": {
        "id": "DxNvEIDoxFSf"
      },
      "source": [
        "**Applying Feature Extraction to Dataset**\n",
        "\n",
        "This applies all the feature extraction functions and stores them in a Pandas DataFrame."
      ]
    },
    {
      "cell_type": "code",
      "source": [
        "import nltk\n",
        "nltk.download('punkt')"
      ],
      "metadata": {
        "colab": {
          "base_uri": "https://localhost:8080/"
        },
        "id": "Q-KN1fFxrLtI",
        "outputId": "43eeef81-8d25-4081-8fc1-37b710e5ec24"
      },
      "execution_count": null,
      "outputs": [
        {
          "output_type": "stream",
          "name": "stderr",
          "text": [
            "[nltk_data] Downloading package punkt to /root/nltk_data...\n",
            "[nltk_data]   Package punkt is already up-to-date!\n"
          ]
        },
        {
          "output_type": "execute_result",
          "data": {
            "text/plain": [
              "True"
            ]
          },
          "metadata": {},
          "execution_count": 47
        }
      ]
    },
    {
      "cell_type": "code",
      "execution_count": null,
      "metadata": {
        "colab": {
          "base_uri": "https://localhost:8080/",
          "height": 755
        },
        "id": "7OiiHRh-xLPh",
        "outputId": "1caa32d8-8ee0-4065-a55c-3479329c6f74"
      },
      "outputs": [
        {
          "output_type": "stream",
          "name": "stderr",
          "text": [
            "[nltk_data] Downloading package punkt to /root/nltk_data...\n",
            "[nltk_data]   Package punkt is already up-to-date!\n"
          ]
        },
        {
          "output_type": "error",
          "ename": "LookupError",
          "evalue": "\n**********************************************************************\n  Resource \u001b[93mpunkt_tab\u001b[0m not found.\n  Please use the NLTK Downloader to obtain the resource:\n\n  \u001b[31m>>> import nltk\n  >>> nltk.download('punkt_tab')\n  \u001b[0m\n  For more information see: https://www.nltk.org/data.html\n\n  Attempted to load \u001b[93mtokenizers/punkt_tab/english/\u001b[0m\n\n  Searched in:\n    - '/root/nltk_data'\n    - '/usr/nltk_data'\n    - '/usr/share/nltk_data'\n    - '/usr/lib/nltk_data'\n    - '/usr/share/nltk_data'\n    - '/usr/local/share/nltk_data'\n    - '/usr/lib/nltk_data'\n    - '/usr/local/lib/nltk_data'\n**********************************************************************\n",
          "traceback": [
            "\u001b[0;31m---------------------------------------------------------------------------\u001b[0m",
            "\u001b[0;31mLookupError\u001b[0m                               Traceback (most recent call last)",
            "\u001b[0;32m<ipython-input-51-6949eb2662dc>\u001b[0m in \u001b[0;36m<cell line: 0>\u001b[0;34m()\u001b[0m\n\u001b[1;32m     52\u001b[0m \u001b[0;32mfor\u001b[0m \u001b[0m_\u001b[0m\u001b[0;34m,\u001b[0m \u001b[0mrow\u001b[0m \u001b[0;32min\u001b[0m \u001b[0mdf\u001b[0m\u001b[0;34m.\u001b[0m\u001b[0miterrows\u001b[0m\u001b[0;34m(\u001b[0m\u001b[0;34m)\u001b[0m\u001b[0;34m:\u001b[0m\u001b[0;34m\u001b[0m\u001b[0;34m\u001b[0m\u001b[0m\n\u001b[1;32m     53\u001b[0m     \u001b[0mfeatures\u001b[0m \u001b[0;34m=\u001b[0m \u001b[0mextract_math_features\u001b[0m\u001b[0;34m(\u001b[0m\u001b[0mrow\u001b[0m\u001b[0;34m[\u001b[0m\u001b[0;34m\"question\"\u001b[0m\u001b[0;34m]\u001b[0m\u001b[0;34m)\u001b[0m\u001b[0;34m\u001b[0m\u001b[0;34m\u001b[0m\u001b[0m\n\u001b[0;32m---> 54\u001b[0;31m     \u001b[0mfeatures\u001b[0m\u001b[0;34m.\u001b[0m\u001b[0mupdate\u001b[0m\u001b[0;34m(\u001b[0m\u001b[0mextract_text_features\u001b[0m\u001b[0;34m(\u001b[0m\u001b[0mrow\u001b[0m\u001b[0;34m[\u001b[0m\u001b[0;34m\"question\"\u001b[0m\u001b[0;34m]\u001b[0m\u001b[0;34m)\u001b[0m\u001b[0;34m)\u001b[0m  \u001b[0;31m# No error now\u001b[0m\u001b[0;34m\u001b[0m\u001b[0;34m\u001b[0m\u001b[0m\n\u001b[0m\u001b[1;32m     55\u001b[0m     \u001b[0mfeatures\u001b[0m\u001b[0;34m.\u001b[0m\u001b[0mupdate\u001b[0m\u001b[0;34m(\u001b[0m\u001b[0mextract_student_performance\u001b[0m\u001b[0;34m(\u001b[0m\u001b[0mrow\u001b[0m\u001b[0;34m)\u001b[0m\u001b[0;34m)\u001b[0m\u001b[0;34m\u001b[0m\u001b[0;34m\u001b[0m\u001b[0m\n\u001b[1;32m     56\u001b[0m     \u001b[0mfeature_list\u001b[0m\u001b[0;34m.\u001b[0m\u001b[0mappend\u001b[0m\u001b[0;34m(\u001b[0m\u001b[0mfeatures\u001b[0m\u001b[0;34m)\u001b[0m\u001b[0;34m\u001b[0m\u001b[0;34m\u001b[0m\u001b[0m\n",
            "\u001b[0;32m<ipython-input-51-6949eb2662dc>\u001b[0m in \u001b[0;36mextract_text_features\u001b[0;34m(question)\u001b[0m\n\u001b[1;32m     33\u001b[0m \u001b[0;31m# 🔹 Function to extract text-based features\u001b[0m\u001b[0;34m\u001b[0m\u001b[0;34m\u001b[0m\u001b[0m\n\u001b[1;32m     34\u001b[0m \u001b[0;32mdef\u001b[0m \u001b[0mextract_text_features\u001b[0m\u001b[0;34m(\u001b[0m\u001b[0mquestion\u001b[0m\u001b[0;34m)\u001b[0m\u001b[0;34m:\u001b[0m\u001b[0;34m\u001b[0m\u001b[0;34m\u001b[0m\u001b[0m\n\u001b[0;32m---> 35\u001b[0;31m     \u001b[0mtokens\u001b[0m \u001b[0;34m=\u001b[0m \u001b[0mword_tokenize\u001b[0m\u001b[0;34m(\u001b[0m\u001b[0mquestion\u001b[0m\u001b[0;34m)\u001b[0m  \u001b[0;31m# No more error\u001b[0m\u001b[0;34m\u001b[0m\u001b[0;34m\u001b[0m\u001b[0m\n\u001b[0m\u001b[1;32m     36\u001b[0m     features = {\n\u001b[1;32m     37\u001b[0m         \u001b[0;34m\"word_count\"\u001b[0m\u001b[0;34m:\u001b[0m \u001b[0mlen\u001b[0m\u001b[0;34m(\u001b[0m\u001b[0mtokens\u001b[0m\u001b[0;34m)\u001b[0m\u001b[0;34m,\u001b[0m\u001b[0;34m\u001b[0m\u001b[0;34m\u001b[0m\u001b[0m\n",
            "\u001b[0;32m/usr/local/lib/python3.11/dist-packages/nltk/tokenize/__init__.py\u001b[0m in \u001b[0;36mword_tokenize\u001b[0;34m(text, language, preserve_line)\u001b[0m\n\u001b[1;32m    140\u001b[0m     \u001b[0;34m:\u001b[0m\u001b[0mtype\u001b[0m \u001b[0mpreserve_line\u001b[0m\u001b[0;34m:\u001b[0m \u001b[0mbool\u001b[0m\u001b[0;34m\u001b[0m\u001b[0;34m\u001b[0m\u001b[0m\n\u001b[1;32m    141\u001b[0m     \"\"\"\n\u001b[0;32m--> 142\u001b[0;31m     \u001b[0msentences\u001b[0m \u001b[0;34m=\u001b[0m \u001b[0;34m[\u001b[0m\u001b[0mtext\u001b[0m\u001b[0;34m]\u001b[0m \u001b[0;32mif\u001b[0m \u001b[0mpreserve_line\u001b[0m \u001b[0;32melse\u001b[0m \u001b[0msent_tokenize\u001b[0m\u001b[0;34m(\u001b[0m\u001b[0mtext\u001b[0m\u001b[0;34m,\u001b[0m \u001b[0mlanguage\u001b[0m\u001b[0;34m)\u001b[0m\u001b[0;34m\u001b[0m\u001b[0;34m\u001b[0m\u001b[0m\n\u001b[0m\u001b[1;32m    143\u001b[0m     return [\n\u001b[1;32m    144\u001b[0m         \u001b[0mtoken\u001b[0m \u001b[0;32mfor\u001b[0m \u001b[0msent\u001b[0m \u001b[0;32min\u001b[0m \u001b[0msentences\u001b[0m \u001b[0;32mfor\u001b[0m \u001b[0mtoken\u001b[0m \u001b[0;32min\u001b[0m \u001b[0m_treebank_word_tokenizer\u001b[0m\u001b[0;34m.\u001b[0m\u001b[0mtokenize\u001b[0m\u001b[0;34m(\u001b[0m\u001b[0msent\u001b[0m\u001b[0;34m)\u001b[0m\u001b[0;34m\u001b[0m\u001b[0;34m\u001b[0m\u001b[0m\n",
            "\u001b[0;32m/usr/local/lib/python3.11/dist-packages/nltk/tokenize/__init__.py\u001b[0m in \u001b[0;36msent_tokenize\u001b[0;34m(text, language)\u001b[0m\n\u001b[1;32m    117\u001b[0m     \u001b[0;34m:\u001b[0m\u001b[0mparam\u001b[0m \u001b[0mlanguage\u001b[0m\u001b[0;34m:\u001b[0m \u001b[0mthe\u001b[0m \u001b[0mmodel\u001b[0m \u001b[0mname\u001b[0m \u001b[0;32min\u001b[0m \u001b[0mthe\u001b[0m \u001b[0mPunkt\u001b[0m \u001b[0mcorpus\u001b[0m\u001b[0;34m\u001b[0m\u001b[0;34m\u001b[0m\u001b[0m\n\u001b[1;32m    118\u001b[0m     \"\"\"\n\u001b[0;32m--> 119\u001b[0;31m     \u001b[0mtokenizer\u001b[0m \u001b[0;34m=\u001b[0m \u001b[0m_get_punkt_tokenizer\u001b[0m\u001b[0;34m(\u001b[0m\u001b[0mlanguage\u001b[0m\u001b[0;34m)\u001b[0m\u001b[0;34m\u001b[0m\u001b[0;34m\u001b[0m\u001b[0m\n\u001b[0m\u001b[1;32m    120\u001b[0m     \u001b[0;32mreturn\u001b[0m \u001b[0mtokenizer\u001b[0m\u001b[0;34m.\u001b[0m\u001b[0mtokenize\u001b[0m\u001b[0;34m(\u001b[0m\u001b[0mtext\u001b[0m\u001b[0;34m)\u001b[0m\u001b[0;34m\u001b[0m\u001b[0;34m\u001b[0m\u001b[0m\n\u001b[1;32m    121\u001b[0m \u001b[0;34m\u001b[0m\u001b[0m\n",
            "\u001b[0;32m/usr/local/lib/python3.11/dist-packages/nltk/tokenize/__init__.py\u001b[0m in \u001b[0;36m_get_punkt_tokenizer\u001b[0;34m(language)\u001b[0m\n\u001b[1;32m    103\u001b[0m     \u001b[0;34m:\u001b[0m\u001b[0mtype\u001b[0m \u001b[0mlanguage\u001b[0m\u001b[0;34m:\u001b[0m \u001b[0mstr\u001b[0m\u001b[0;34m\u001b[0m\u001b[0;34m\u001b[0m\u001b[0m\n\u001b[1;32m    104\u001b[0m     \"\"\"\n\u001b[0;32m--> 105\u001b[0;31m     \u001b[0;32mreturn\u001b[0m \u001b[0mPunktTokenizer\u001b[0m\u001b[0;34m(\u001b[0m\u001b[0mlanguage\u001b[0m\u001b[0;34m)\u001b[0m\u001b[0;34m\u001b[0m\u001b[0;34m\u001b[0m\u001b[0m\n\u001b[0m\u001b[1;32m    106\u001b[0m \u001b[0;34m\u001b[0m\u001b[0m\n\u001b[1;32m    107\u001b[0m \u001b[0;34m\u001b[0m\u001b[0m\n",
            "\u001b[0;32m/usr/local/lib/python3.11/dist-packages/nltk/tokenize/punkt.py\u001b[0m in \u001b[0;36m__init__\u001b[0;34m(self, lang)\u001b[0m\n\u001b[1;32m   1742\u001b[0m     \u001b[0;32mdef\u001b[0m \u001b[0m__init__\u001b[0m\u001b[0;34m(\u001b[0m\u001b[0mself\u001b[0m\u001b[0;34m,\u001b[0m \u001b[0mlang\u001b[0m\u001b[0;34m=\u001b[0m\u001b[0;34m\"english\"\u001b[0m\u001b[0;34m)\u001b[0m\u001b[0;34m:\u001b[0m\u001b[0;34m\u001b[0m\u001b[0;34m\u001b[0m\u001b[0m\n\u001b[1;32m   1743\u001b[0m         \u001b[0mPunktSentenceTokenizer\u001b[0m\u001b[0;34m.\u001b[0m\u001b[0m__init__\u001b[0m\u001b[0;34m(\u001b[0m\u001b[0mself\u001b[0m\u001b[0;34m)\u001b[0m\u001b[0;34m\u001b[0m\u001b[0;34m\u001b[0m\u001b[0m\n\u001b[0;32m-> 1744\u001b[0;31m         \u001b[0mself\u001b[0m\u001b[0;34m.\u001b[0m\u001b[0mload_lang\u001b[0m\u001b[0;34m(\u001b[0m\u001b[0mlang\u001b[0m\u001b[0;34m)\u001b[0m\u001b[0;34m\u001b[0m\u001b[0;34m\u001b[0m\u001b[0m\n\u001b[0m\u001b[1;32m   1745\u001b[0m \u001b[0;34m\u001b[0m\u001b[0m\n\u001b[1;32m   1746\u001b[0m     \u001b[0;32mdef\u001b[0m \u001b[0mload_lang\u001b[0m\u001b[0;34m(\u001b[0m\u001b[0mself\u001b[0m\u001b[0;34m,\u001b[0m \u001b[0mlang\u001b[0m\u001b[0;34m=\u001b[0m\u001b[0;34m\"english\"\u001b[0m\u001b[0;34m)\u001b[0m\u001b[0;34m:\u001b[0m\u001b[0;34m\u001b[0m\u001b[0;34m\u001b[0m\u001b[0m\n",
            "\u001b[0;32m/usr/local/lib/python3.11/dist-packages/nltk/tokenize/punkt.py\u001b[0m in \u001b[0;36mload_lang\u001b[0;34m(self, lang)\u001b[0m\n\u001b[1;32m   1747\u001b[0m         \u001b[0;32mfrom\u001b[0m \u001b[0mnltk\u001b[0m\u001b[0;34m.\u001b[0m\u001b[0mdata\u001b[0m \u001b[0;32mimport\u001b[0m \u001b[0mfind\u001b[0m\u001b[0;34m\u001b[0m\u001b[0;34m\u001b[0m\u001b[0m\n\u001b[1;32m   1748\u001b[0m \u001b[0;34m\u001b[0m\u001b[0m\n\u001b[0;32m-> 1749\u001b[0;31m         \u001b[0mlang_dir\u001b[0m \u001b[0;34m=\u001b[0m \u001b[0mfind\u001b[0m\u001b[0;34m(\u001b[0m\u001b[0;34mf\"tokenizers/punkt_tab/{lang}/\"\u001b[0m\u001b[0;34m)\u001b[0m\u001b[0;34m\u001b[0m\u001b[0;34m\u001b[0m\u001b[0m\n\u001b[0m\u001b[1;32m   1750\u001b[0m         \u001b[0mself\u001b[0m\u001b[0;34m.\u001b[0m\u001b[0m_params\u001b[0m \u001b[0;34m=\u001b[0m \u001b[0mload_punkt_params\u001b[0m\u001b[0;34m(\u001b[0m\u001b[0mlang_dir\u001b[0m\u001b[0;34m)\u001b[0m\u001b[0;34m\u001b[0m\u001b[0;34m\u001b[0m\u001b[0m\n\u001b[1;32m   1751\u001b[0m         \u001b[0mself\u001b[0m\u001b[0;34m.\u001b[0m\u001b[0m_lang\u001b[0m \u001b[0;34m=\u001b[0m \u001b[0mlang\u001b[0m\u001b[0;34m\u001b[0m\u001b[0;34m\u001b[0m\u001b[0m\n",
            "\u001b[0;32m/usr/local/lib/python3.11/dist-packages/nltk/data.py\u001b[0m in \u001b[0;36mfind\u001b[0;34m(resource_name, paths)\u001b[0m\n\u001b[1;32m    577\u001b[0m     \u001b[0msep\u001b[0m \u001b[0;34m=\u001b[0m \u001b[0;34m\"*\"\u001b[0m \u001b[0;34m*\u001b[0m \u001b[0;36m70\u001b[0m\u001b[0;34m\u001b[0m\u001b[0;34m\u001b[0m\u001b[0m\n\u001b[1;32m    578\u001b[0m     \u001b[0mresource_not_found\u001b[0m \u001b[0;34m=\u001b[0m \u001b[0;34mf\"\\n{sep}\\n{msg}\\n{sep}\\n\"\u001b[0m\u001b[0;34m\u001b[0m\u001b[0;34m\u001b[0m\u001b[0m\n\u001b[0;32m--> 579\u001b[0;31m     \u001b[0;32mraise\u001b[0m \u001b[0mLookupError\u001b[0m\u001b[0;34m(\u001b[0m\u001b[0mresource_not_found\u001b[0m\u001b[0;34m)\u001b[0m\u001b[0;34m\u001b[0m\u001b[0;34m\u001b[0m\u001b[0m\n\u001b[0m\u001b[1;32m    580\u001b[0m \u001b[0;34m\u001b[0m\u001b[0m\n\u001b[1;32m    581\u001b[0m \u001b[0;34m\u001b[0m\u001b[0m\n",
            "\u001b[0;31mLookupError\u001b[0m: \n**********************************************************************\n  Resource \u001b[93mpunkt_tab\u001b[0m not found.\n  Please use the NLTK Downloader to obtain the resource:\n\n  \u001b[31m>>> import nltk\n  >>> nltk.download('punkt_tab')\n  \u001b[0m\n  For more information see: https://www.nltk.org/data.html\n\n  Attempted to load \u001b[93mtokenizers/punkt_tab/english/\u001b[0m\n\n  Searched in:\n    - '/root/nltk_data'\n    - '/usr/nltk_data'\n    - '/usr/share/nltk_data'\n    - '/usr/lib/nltk_data'\n    - '/usr/share/nltk_data'\n    - '/usr/local/share/nltk_data'\n    - '/usr/lib/nltk_data'\n    - '/usr/local/lib/nltk_data'\n**********************************************************************\n"
          ]
        }
      ],
      "source": [
        "import pandas as pd\n",
        "import numpy as np\n",
        "import os\n",
        "import nltk\n",
        "from nltk.tokenize import word_tokenize\n",
        "from sklearn.model_selection import train_test_split\n",
        "from sklearn.linear_model import LinearRegression\n",
        "from sklearn.metrics import mean_absolute_error\n",
        "import seaborn as sns\n",
        "import matplotlib.pyplot as plt\n",
        "\n",
        "# ✅ Ensure 'punkt' is downloaded before using word_tokenize\n",
        "nltk.download('punkt')\n",
        "\n",
        "# Sample dataset\n",
        "data = [\n",
        "    {\"question\": \"Find the sum of the first 10 terms of an arithmetic sequence.\", \"score\": 80, \"attempts\": 2, \"time_spent\": 120},\n",
        "    {\"question\": \"Evaluate the summation Σ (2n+1) from n=1 to 100.\", \"score\": 60, \"attempts\": 4, \"time_spent\": 180},\n",
        "    {\"question\": \"Find the nth term of a geometric sequence given the first term is 3 and r=2.\", \"score\": 70, \"attempts\": 3, \"time_spent\": 150}\n",
        "]\n",
        "\n",
        "df = pd.DataFrame(data)\n",
        "\n",
        "# 🔹 Function to extract math-related features\n",
        "def extract_math_features(question):\n",
        "    features = {\n",
        "        \"has_summation\": int(\"Σ\" in question or \"sum\" in question.lower()),\n",
        "        \"has_arithmetic_seq\": int(\"arithmetic\" in question.lower()),\n",
        "        \"has_geometric_seq\": int(\"geometric\" in question.lower()),\n",
        "        \"has_nth_term\": int(\"nth\" in question.lower())\n",
        "    }\n",
        "    return features\n",
        "\n",
        "# 🔹 Function to extract text-based features\n",
        "def extract_text_features(question):\n",
        "    tokens = word_tokenize(question)  # No more error\n",
        "    features = {\n",
        "        \"word_count\": len(tokens),\n",
        "        \"unique_word_count\": len(set(tokens))\n",
        "    }\n",
        "    return features\n",
        "\n",
        "# 🔹 Function to analyze student performance\n",
        "def extract_student_performance(row):\n",
        "    features = {\n",
        "        \"attempts\": row[\"attempts\"],\n",
        "        \"time_spent\": row[\"time_spent\"]\n",
        "    }\n",
        "    return features\n",
        "\n",
        "# 🔹 Feature Extraction Process\n",
        "feature_list = []\n",
        "for _, row in df.iterrows():\n",
        "    features = extract_math_features(row[\"question\"])\n",
        "    features.update(extract_text_features(row[\"question\"]))  # No error now\n",
        "    features.update(extract_student_performance(row))\n",
        "    feature_list.append(features)\n",
        "\n",
        "# Convert extracted features into DataFrame\n",
        "feature_df = pd.DataFrame(feature_list)\n",
        "\n",
        "# 🔹 Define Features (X) and Target Variable (y)\n",
        "X = feature_df\n",
        "y = df[\"score\"]\n",
        "\n",
        "# 🔹 Split Data for Training & Testing\n",
        "X_train, X_test, y_train, y_test = train_test_split(X, y, test_size=0.2, random_state=42)\n",
        "\n",
        "# 🔹 Train a Machine Learning Model (Linear Regression)\n",
        "model = LinearRegression()\n",
        "model.fit(X_train, y_train)\n",
        "\n",
        "# 🔹 Predict and Evaluate Model Performance\n",
        "y_pred = model.predict(X_test)\n",
        "print(\"Mean Absolute Error (MAE):\", mean_absolute_error(y_test, y_pred))\n",
        "\n",
        "# 🔹 Visualizing Time Spent vs. Score\n",
        "sns.scatterplot(x=df[\"time_spent\"], y=df[\"score\"])\n",
        "plt.xlabel(\"Time Spent\")\n",
        "plt.ylabel(\"Score\")\n",
        "plt.title(\"Time Spent vs Score\")\n",
        "plt.show()\n",
        "\n",
        "# 🔹 Save Processed Dataset\n",
        "feature_df[\"score\"] = y  # Add scores back to features\n",
        "feature_df.to_csv(\"processed_features.csv\", index=False)\n",
        "print(\"Processed dataset saved as 'processed_features.csv'.\")\n"
      ]
    }
  ],
  "metadata": {
    "accelerator": "GPU",
    "colab": {
      "gpuType": "T4",
      "provenance": [],
      "include_colab_link": true
    },
    "kernelspec": {
      "display_name": "Python 3",
      "name": "python3"
    },
    "language_info": {
      "name": "python"
    }
  },
  "nbformat": 4,
  "nbformat_minor": 0
}